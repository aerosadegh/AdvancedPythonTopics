{
 "cells": [
  {
   "cell_type": "markdown",
   "metadata": {},
   "source": [
    "## numpy & scipy"
   ]
  },
  {
   "cell_type": "code",
   "execution_count": 197,
   "metadata": {},
   "outputs": [
    {
     "name": "stdout",
     "output_type": "stream",
     "text": [
      "1.21.3\n"
     ]
    }
   ],
   "source": [
    "import numpy as np\n",
    "print(np.__version__)"
   ]
  },
  {
   "cell_type": "code",
   "execution_count": 198,
   "metadata": {},
   "outputs": [
    {
     "name": "stdout",
     "output_type": "stream",
     "text": [
      "[1 2 3]\n"
     ]
    },
    {
     "data": {
      "text/plain": [
       "array([1, 2, 3])"
      ]
     },
     "execution_count": 198,
     "metadata": {},
     "output_type": "execute_result"
    }
   ],
   "source": [
    "print(np.array([1,2,3]))\n",
    "np.array([1,2,3])"
   ]
  },
  {
   "cell_type": "code",
   "execution_count": 199,
   "metadata": {},
   "outputs": [
    {
     "data": {
      "text/plain": [
       "array([[1, 2, 3],\n",
       "       [4, 5, 6],\n",
       "       [7, 8, 9]])"
      ]
     },
     "execution_count": 199,
     "metadata": {},
     "output_type": "execute_result"
    }
   ],
   "source": [
    "a = np.array([[1,2,3], [4,5,6], [7,8,9]])\n",
    "a"
   ]
  },
  {
   "cell_type": "code",
   "execution_count": 200,
   "metadata": {},
   "outputs": [
    {
     "data": {
      "text/plain": [
       "array([4, 5, 6])"
      ]
     },
     "execution_count": 200,
     "metadata": {},
     "output_type": "execute_result"
    }
   ],
   "source": [
    "a[1]"
   ]
  },
  {
   "cell_type": "code",
   "execution_count": 201,
   "metadata": {},
   "outputs": [
    {
     "data": {
      "text/plain": [
       "array([[4, 5, 6],\n",
       "       [7, 8, 9]])"
      ]
     },
     "execution_count": 201,
     "metadata": {},
     "output_type": "execute_result"
    }
   ],
   "source": [
    "a[1:]"
   ]
  },
  {
   "cell_type": "code",
   "execution_count": 202,
   "metadata": {},
   "outputs": [
    {
     "data": {
      "text/plain": [
       "array([7, 8, 9])"
      ]
     },
     "execution_count": 202,
     "metadata": {},
     "output_type": "execute_result"
    }
   ],
   "source": [
    "a[1:][1]"
   ]
  },
  {
   "cell_type": "code",
   "execution_count": 203,
   "metadata": {},
   "outputs": [
    {
     "data": {
      "text/plain": [
       "array([5, 8])"
      ]
     },
     "execution_count": 203,
     "metadata": {},
     "output_type": "execute_result"
    }
   ],
   "source": [
    "a[1:,1]"
   ]
  },
  {
   "cell_type": "code",
   "execution_count": 204,
   "metadata": {},
   "outputs": [
    {
     "data": {
      "text/plain": [
       "array([5, 6, 7, 8, 9])"
      ]
     },
     "execution_count": 204,
     "metadata": {},
     "output_type": "execute_result"
    }
   ],
   "source": [
    "a[a>4]"
   ]
  },
  {
   "cell_type": "code",
   "execution_count": 205,
   "metadata": {},
   "outputs": [
    {
     "data": {
      "text/plain": [
       "array([[1, 2, 3],\n",
       "       [4, 5, 6],\n",
       "       [7, 8, 9]])"
      ]
     },
     "execution_count": 205,
     "metadata": {},
     "output_type": "execute_result"
    }
   ],
   "source": [
    "a"
   ]
  },
  {
   "cell_type": "code",
   "execution_count": 206,
   "metadata": {},
   "outputs": [
    {
     "data": {
      "text/plain": [
       "array([[1, 4, 7],\n",
       "       [2, 5, 8],\n",
       "       [3, 6, 9]])"
      ]
     },
     "execution_count": 206,
     "metadata": {},
     "output_type": "execute_result"
    }
   ],
   "source": [
    "a.transpose()   # a.T"
   ]
  },
  {
   "cell_type": "code",
   "execution_count": 207,
   "metadata": {},
   "outputs": [
    {
     "data": {
      "text/plain": [
       "15"
      ]
     },
     "execution_count": 207,
     "metadata": {},
     "output_type": "execute_result"
    }
   ],
   "source": [
    "a.trace()"
   ]
  },
  {
   "cell_type": "code",
   "execution_count": 208,
   "metadata": {},
   "outputs": [
    {
     "data": {
      "text/plain": [
       "(3, 3)"
      ]
     },
     "execution_count": 208,
     "metadata": {},
     "output_type": "execute_result"
    }
   ],
   "source": [
    "a.shape"
   ]
  },
  {
   "cell_type": "code",
   "execution_count": 209,
   "metadata": {},
   "outputs": [
    {
     "data": {
      "text/plain": [
       "array([[1],\n",
       "       [2],\n",
       "       [3],\n",
       "       [4],\n",
       "       [5],\n",
       "       [6],\n",
       "       [7],\n",
       "       [8],\n",
       "       [9]])"
      ]
     },
     "execution_count": 209,
     "metadata": {},
     "output_type": "execute_result"
    }
   ],
   "source": [
    "a.reshape((9,1))"
   ]
  },
  {
   "cell_type": "code",
   "execution_count": 210,
   "metadata": {},
   "outputs": [
    {
     "data": {
      "text/plain": [
       "array([[1, 2, 3, 4],\n",
       "       [5, 6, 7, 8],\n",
       "       [9, 1, 2, 3],\n",
       "       [4, 5, 6, 7],\n",
       "       [8, 9, 1, 2],\n",
       "       [3, 4, 5, 6]])"
      ]
     },
     "execution_count": 210,
     "metadata": {},
     "output_type": "execute_result"
    }
   ],
   "source": [
    "np.resize(a,(6,4))"
   ]
  },
  {
   "cell_type": "code",
   "execution_count": 211,
   "metadata": {},
   "outputs": [
    {
     "data": {
      "text/plain": [
       "array([1, 2, 3, 4, 5, 6, 7, 8, 9])"
      ]
     },
     "execution_count": 211,
     "metadata": {},
     "output_type": "execute_result"
    }
   ],
   "source": [
    "a = np.array([1,2,3])\n",
    "b = np.array([4,5,6])\n",
    "c = np.array([7,8,9])\n",
    "\n",
    "np.concatenate((a,b,c))"
   ]
  },
  {
   "cell_type": "code",
   "execution_count": 212,
   "metadata": {},
   "outputs": [
    {
     "data": {
      "text/plain": [
       "array([[1, 2, 3],\n",
       "       [4, 5, 6],\n",
       "       [7, 8, 9]])"
      ]
     },
     "execution_count": 212,
     "metadata": {},
     "output_type": "execute_result"
    }
   ],
   "source": [
    "arr = np.vstack((a,b,c))\n",
    "arr"
   ]
  },
  {
   "cell_type": "code",
   "execution_count": 213,
   "metadata": {},
   "outputs": [
    {
     "data": {
      "text/plain": [
       "array([[1, 4, 7],\n",
       "       [2, 5, 8],\n",
       "       [3, 6, 9]])"
      ]
     },
     "execution_count": 213,
     "metadata": {},
     "output_type": "execute_result"
    }
   ],
   "source": [
    "np.column_stack((a,b,c))"
   ]
  },
  {
   "cell_type": "code",
   "execution_count": 214,
   "metadata": {},
   "outputs": [
    {
     "data": {
      "text/plain": [
       "[array([[1],\n",
       "        [4],\n",
       "        [7]]),\n",
       " array([[2],\n",
       "        [5],\n",
       "        [8]]),\n",
       " array([[3],\n",
       "        [6],\n",
       "        [9]])]"
      ]
     },
     "execution_count": 214,
     "metadata": {},
     "output_type": "execute_result"
    }
   ],
   "source": [
    "np.hsplit(arr, 3)"
   ]
  },
  {
   "cell_type": "code",
   "execution_count": 215,
   "metadata": {},
   "outputs": [
    {
     "data": {
      "text/plain": [
       "array([1., 2., 3.], dtype=float32)"
      ]
     },
     "execution_count": 215,
     "metadata": {},
     "output_type": "execute_result"
    }
   ],
   "source": [
    "np.array([1,2,3], dtype=np.float32)"
   ]
  },
  {
   "cell_type": "code",
   "execution_count": 216,
   "metadata": {},
   "outputs": [
    {
     "data": {
      "text/plain": [
       "array([ True, False,  True])"
      ]
     },
     "execution_count": 216,
     "metadata": {},
     "output_type": "execute_result"
    }
   ],
   "source": [
    "np.array([1,0,3], dtype=np.bool8)"
   ]
  },
  {
   "attachments": {},
   "cell_type": "markdown",
   "metadata": {},
   "source": [
    "### dtypes\n",
    "\n",
    "**bool_**  :Boolean (True or False) stored as a byte\n",
    "\n",
    "**int_** :Default integer type (same as C long; normally either int64 or int32)\n",
    "\n",
    "**intc** : Identical to C int (normally int32 or int64) \n",
    "\n",
    "**intp** : Integer used for indexing (same as C ssize_t; normally either int32 or int64)\n",
    "\n",
    "**int8** : Byte (-128 to 127) \n",
    "\n",
    "**int16** : Integer (-32768 to 32767)\n",
    "\n",
    "**int32** : Integer (-2147483648 to 2147483647)\n",
    "\n",
    "**int64** : Integer (-9223372036854775808 to 9223372036854775807)\n",
    "\n",
    "**uint8** : Unsigned integer (0 to 255) \n",
    "\n",
    "**uint16** : Unsigned integer (0 to 65535)\n",
    "\n",
    "**uint32** : Unsigned integer (0 to 4294967295)\n",
    "\n",
    "**uint64** : Unsigned integer (0 to 18446744073709551615)\n",
    "\n",
    "**float_** : Shorthand for float64\n",
    "\n",
    "**float16** : Half precision float: sign bit, 5 bits exponent, 10 bits mantissa\n",
    "\n",
    "**float32** : Single precision float: sign bit, 8 bits exponent, 23 bits mantissa\n",
    "\n",
    "**float64** : Double precision float: sign bit, 11 bits exponent, 52 bits mantissa\n",
    "\n",
    "**complex_** : Shorthand for complex128 \n",
    "\n",
    "**complex64** : Complex number, represented by two 32-bit floats (real and imaginary components)\n",
    "\n",
    "**complex128** : Complex number, represented by two 64-bit floats (real and imaginary components)\n",
    "\n"
   ]
  },
  {
   "cell_type": "markdown",
   "metadata": {},
   "source": [
    "\n",
    "### Array types and conversions between types\n",
    "\n",
    "\n",
    "|         Numpy type         |        C type       |                                            Description                                           |\n",
    "|--------------------------|-------------------|------------------------------------------------------------------------------------------------|\n",
    "| numpy.bool_                | bool                | Boolean (True or False) stored as a byte                                                         |\n",
    "| numpy.byte                 | signed char         | Platform-defined                                                                                 |\n",
    "| numpy.ubyte                | unsigned char       | Platform-defined                                                                                 |\n",
    "| numpy.short                | short               | Platform-defined                                                                                 |\n",
    "| numpy.ushort               | unsigned short      | Platform-defined                                                                                 |\n",
    "| numpy.intc                 | int                 | Platform-defined                                                                                 |\n",
    "| numpy.uintc                | unsigned int        | Platform-defined                                                                                 |\n",
    "| numpy.int_                 | long                | Platform-defined                                                                                 |\n",
    "| numpy.uint                 | unsigned long       | Platform-defined                                                                                 |\n",
    "| numpy.longlong             | long long           | Platform-defined                                                                                 |\n",
    "| numpy.ulonglong            | unsigned long long  | Platform-defined                                                                                 |\n",
    "| numpy.half / numpy.float16 |                     | Half precision float: sign bit, 5 bits exponent, 10 bits mantissa                                |\n",
    "| numpy.single               | float               | Platform-defined single precision float: typically sign bit, 8 bits exponent, 23 bits mantissa   |\n",
    "| numpy.double               | double              | Platform-defined double precision float: typically sign bit, 11 bits exponent, 52 bits mantissa. |\n",
    "| numpy.longdouble           | long double         | Platform-defined extended-precision float                                                        |\n",
    "| numpy.csingle              | float complex       | Complex number, represented by two single-precision floats (real and imaginary components)       |\n",
    "| numpy.cdouble              | double complex      | Complex number, represented by two double-precision floats (real and imaginary components).      |\n",
    "| numpy.clongdouble          | long double complex | Complex number, represented by two extended-precision floats (real and imaginary components).    |\n",
    "\n",
    "\n",
    "\n",
    "[Numpy Doc](https://numpy.org/doc/stable/reference/arrays.scalars.html)\n",
    "\n",
    "![dtype hierarchy](./dtype-hierarchy.png)"
   ]
  },
  {
   "cell_type": "code",
   "execution_count": 217,
   "metadata": {},
   "outputs": [
    {
     "data": {
      "text/plain": [
       "array([1.+0.j, 2.+0.j, 3.+0.j], dtype=complex64)"
      ]
     },
     "execution_count": 217,
     "metadata": {},
     "output_type": "execute_result"
    }
   ],
   "source": [
    "np.array([1,2,3], dtype=np.complex64)"
   ]
  },
  {
   "cell_type": "code",
   "execution_count": 218,
   "metadata": {},
   "outputs": [
    {
     "data": {
      "text/plain": [
       "array([1.+0.j, 2.+0.j, 3.+0.j])"
      ]
     },
     "execution_count": 218,
     "metadata": {},
     "output_type": "execute_result"
    }
   ],
   "source": [
    "np.array([1.,2,3+0j])"
   ]
  },
  {
   "cell_type": "code",
   "execution_count": 219,
   "metadata": {},
   "outputs": [
    {
     "data": {
      "text/plain": [
       "array([2, 3, 4, 5, 6, 7], dtype=int64)"
      ]
     },
     "execution_count": 219,
     "metadata": {},
     "output_type": "execute_result"
    }
   ],
   "source": [
    "np.arange(2,10,1.5, dtype=np.int64)"
   ]
  },
  {
   "cell_type": "code",
   "execution_count": 220,
   "metadata": {},
   "outputs": [
    {
     "data": {
      "text/plain": [
       "array([ 5,  6,  7,  8,  9, 10])"
      ]
     },
     "execution_count": 220,
     "metadata": {},
     "output_type": "execute_result"
    }
   ],
   "source": [
    "a = np.arange(15)\n",
    "\n",
    "a[(a >= 5) & (a <= 10)]"
   ]
  },
  {
   "cell_type": "code",
   "execution_count": 221,
   "metadata": {},
   "outputs": [
    {
     "data": {
      "text/plain": [
       "array([10, 15, 20])"
      ]
     },
     "execution_count": 221,
     "metadata": {},
     "output_type": "execute_result"
    }
   ],
   "source": [
    "np.arange(10,25,5)"
   ]
  },
  {
   "cell_type": "code",
   "execution_count": 222,
   "metadata": {},
   "outputs": [
    {
     "data": {
      "text/plain": [
       "array([10. +0.j, 10.5+0.j, 11. +0.j, ..., 23.5+0.j, 24. +0.j, 24.5+0.j])"
      ]
     },
     "execution_count": 222,
     "metadata": {},
     "output_type": "execute_result"
    }
   ],
   "source": [
    "np.arange(10,25,.5, dtype=np.complex128)"
   ]
  },
  {
   "cell_type": "code",
   "execution_count": 223,
   "metadata": {},
   "outputs": [
    {
     "data": {
      "text/plain": [
       "array([-3. , -2.5, -2. , -1.5, -1. , -0.5,  0. ,  0.5,  1. ,  1.5],\n",
       "      dtype=float16)"
      ]
     },
     "execution_count": 223,
     "metadata": {},
     "output_type": "execute_result"
    }
   ],
   "source": [
    "np.arange(-3, 2, 0.5, dtype=np.float16)"
   ]
  },
  {
   "cell_type": "code",
   "execution_count": 224,
   "metadata": {},
   "outputs": [
    {
     "data": {
      "text/plain": [
       "array([0.  , 0.25, 0.5 , 0.75, 1.  , 1.25, 1.5 , 1.75, 2.  ])"
      ]
     },
     "execution_count": 224,
     "metadata": {},
     "output_type": "execute_result"
    }
   ],
   "source": [
    "np.linspace(0,2,9)"
   ]
  },
  {
   "cell_type": "code",
   "execution_count": 225,
   "metadata": {},
   "outputs": [
    {
     "data": {
      "text/plain": [
       "array([  1.         ,   1.77827941 ,   3.16227766 ,   5.623413252,\n",
       "        10.         ,  17.7827941  ,  31.622776602,  56.234132519,\n",
       "       100.         ])"
      ]
     },
     "execution_count": 225,
     "metadata": {},
     "output_type": "execute_result"
    }
   ],
   "source": [
    "np.logspace(0,2, 9)"
   ]
  },
  {
   "cell_type": "code",
   "execution_count": 226,
   "metadata": {},
   "outputs": [
    {
     "data": {
      "text/plain": [
       "array([[7, 7, 7],\n",
       "       [7, 7, 7],\n",
       "       [7, 7, 7],\n",
       "       [7, 7, 7]])"
      ]
     },
     "execution_count": 226,
     "metadata": {},
     "output_type": "execute_result"
    }
   ],
   "source": [
    "np.full((4,3),7)"
   ]
  },
  {
   "cell_type": "code",
   "execution_count": 227,
   "metadata": {},
   "outputs": [
    {
     "data": {
      "text/plain": [
       "array([[ True,  True,  True],\n",
       "       [ True,  True,  True],\n",
       "       [ True,  True,  True]])"
      ]
     },
     "execution_count": 227,
     "metadata": {},
     "output_type": "execute_result"
    }
   ],
   "source": [
    "np.full((3, 3), 5, dtype=np.bool8)"
   ]
  },
  {
   "cell_type": "code",
   "execution_count": 228,
   "metadata": {},
   "outputs": [
    {
     "data": {
      "text/plain": [
       "array([[2., 2., 2.],\n",
       "       [2., 2., 2.],\n",
       "       [2., 2., 2.]])"
      ]
     },
     "execution_count": 228,
     "metadata": {},
     "output_type": "execute_result"
    }
   ],
   "source": [
    "np.full((3, 3), 2, dtype=float)"
   ]
  },
  {
   "cell_type": "code",
   "execution_count": 229,
   "metadata": {},
   "outputs": [
    {
     "data": {
      "text/plain": [
       "array([[1., 1., 1.],\n",
       "       [1., 1., 1.],\n",
       "       [1., 1., 1.]])"
      ]
     },
     "execution_count": 229,
     "metadata": {},
     "output_type": "execute_result"
    }
   ],
   "source": [
    "np.ones((3,3), dtype=float)"
   ]
  },
  {
   "cell_type": "code",
   "execution_count": 230,
   "metadata": {},
   "outputs": [
    {
     "data": {
      "text/plain": [
       "array([[[0, 0, 0, 0],\n",
       "        [0, 0, 0, 0],\n",
       "        [0, 0, 0, 0]],\n",
       "\n",
       "       [[0, 0, 0, 0],\n",
       "        [0, 0, 0, 0],\n",
       "        [0, 0, 0, 0]]], dtype=int8)"
      ]
     },
     "execution_count": 230,
     "metadata": {},
     "output_type": "execute_result"
    }
   ],
   "source": [
    "np.zeros((2,3,4),dtype=np.int8)"
   ]
  },
  {
   "cell_type": "code",
   "execution_count": 231,
   "metadata": {},
   "outputs": [
    {
     "data": {
      "text/plain": [
       "array([[10. , 10.5],\n",
       "       [11. , 23.5],\n",
       "       [24. , 24.5]])"
      ]
     },
     "execution_count": 231,
     "metadata": {},
     "output_type": "execute_result"
    }
   ],
   "source": [
    "np.empty((3,2), dtype=float)"
   ]
  },
  {
   "cell_type": "code",
   "execution_count": 232,
   "metadata": {},
   "outputs": [
    {
     "data": {
      "text/plain": [
       "array([[1., 0., 0., 0., 0.],\n",
       "       [0., 1., 0., 0., 0.],\n",
       "       [0., 0., 1., 0., 0.],\n",
       "       [0., 0., 0., 1., 0.],\n",
       "       [0., 0., 0., 0., 1.]])"
      ]
     },
     "execution_count": 232,
     "metadata": {},
     "output_type": "execute_result"
    }
   ],
   "source": [
    "np.eye(5, 5)"
   ]
  },
  {
   "cell_type": "code",
   "execution_count": 233,
   "metadata": {},
   "outputs": [
    {
     "data": {
      "text/plain": [
       "dtype('int64')"
      ]
     },
     "execution_count": 233,
     "metadata": {},
     "output_type": "execute_result"
    }
   ],
   "source": [
    "np.dtype(np.int64)"
   ]
  },
  {
   "cell_type": "code",
   "execution_count": 234,
   "metadata": {},
   "outputs": [
    {
     "data": {
      "text/plain": [
       "dtype([('field_1', '<i2')])"
      ]
     },
     "execution_count": 234,
     "metadata": {},
     "output_type": "execute_result"
    }
   ],
   "source": [
    "# Structured type, one field name 'field_1', containing int16:\n",
    "\n",
    "#np.array([1,2,3,4], dtype=np.dtype([('field_1', np.int16)]))\n",
    "\n",
    "np.dtype([('field_1', np.int16)])"
   ]
  },
  {
   "cell_type": "code",
   "execution_count": 235,
   "metadata": {},
   "outputs": [
    {
     "data": {
      "text/plain": [
       "dtype([('field_1', '<u4'), ('field_2', '<i4')])"
      ]
     },
     "execution_count": 235,
     "metadata": {},
     "output_type": "execute_result"
    }
   ],
   "source": [
    "np.dtype([('field_1', np.uint), ('field_2', np.int32)])"
   ]
  },
  {
   "cell_type": "markdown",
   "metadata": {},
   "source": [
    "A character code (one of ‘biufcmMOSUV’) identifying the general kind of data.\n",
    "\n",
    "**b**\tboolean\n",
    "\n",
    "**i**\tsigned integer\n",
    "\n",
    "**u**\tunsigned integer\n",
    "\n",
    "**f**\tfloating-point\n",
    "\n",
    "**c**\tcomplex floating-point\n",
    "\n",
    "**m**\ttimedelta\n",
    "\n",
    "**M**\tdatetime\n",
    "\n",
    "**O**\tobject\n",
    "\n",
    "**S**\t(byte-)string\n",
    "\n",
    "**U**\tUnicode\n",
    "\n",
    "**V**\tvoid"
   ]
  },
  {
   "cell_type": "code",
   "execution_count": 236,
   "metadata": {},
   "outputs": [
    {
     "data": {
      "text/plain": [
       "array([(0.0015, b'abcdefghij')],\n",
       "      dtype=[('field_1', '<f8'), ('field_2', 'S10')])"
      ]
     },
     "execution_count": 236,
     "metadata": {},
     "output_type": "execute_result"
    }
   ],
   "source": [
    "dt = np.dtype([('field_1','f8'),('field_2','S10')])\n",
    "\n",
    "np.array([(1.5e-3, \"abcdefghijklm\")], dtype=dt)"
   ]
  },
  {
   "cell_type": "code",
   "execution_count": 237,
   "metadata": {},
   "outputs": [
    {
     "data": {
      "text/plain": [
       "b'ABCDEFG'"
      ]
     },
     "execution_count": 237,
     "metadata": {},
     "output_type": "execute_result"
    }
   ],
   "source": [
    "bytes(\"ABCDEFG\", encoding=\"utf8\")"
   ]
  },
  {
   "cell_type": "code",
   "execution_count": 238,
   "metadata": {},
   "outputs": [
    {
     "data": {
      "text/plain": [
       "array([(1, [[ 2.,  3.], [ 4.,  5.]]), (6, [[ 7.,  8.], [ 9., 10.]])],\n",
       "      dtype=[('f0', '<i4'), ('f1', '<f8', (2, 2))])"
      ]
     },
     "execution_count": 238,
     "metadata": {},
     "output_type": "execute_result"
    }
   ],
   "source": [
    "dt = np.dtype(\"i4, (2,2)f8\")\n",
    "\n",
    "d = np.array([(1, ((2,3), (4,5))), (6, [[7,8], [9, 10]])], dtype=dt)\n",
    "d"
   ]
  },
  {
   "cell_type": "code",
   "execution_count": 239,
   "metadata": {},
   "outputs": [
    {
     "data": {
      "text/plain": [
       "array([0.2536, 0.4839, 0.1292, 0.1781, 0.6253])"
      ]
     },
     "execution_count": 239,
     "metadata": {},
     "output_type": "execute_result"
    }
   ],
   "source": [
    "x , y, z = np.loadtxt('data.txt',\n",
    "                        skiprows=1,\n",
    "                        unpack=True)\n",
    "x"
   ]
  },
  {
   "cell_type": "code",
   "execution_count": 240,
   "metadata": {},
   "outputs": [
    {
     "data": {
      "text/plain": [
       "array([(b'M', 21, 72. ), (b'F', 35, 58. ), (b'M', 22, 67. ),\n",
       "       (b'F', 24, 60. ), (b'F', 21, 55. ), (b'M', 26, 69.5)],\n",
       "      dtype=[('gender', 'S1'), ('age', '<i4'), ('weight', '<f2')])"
      ]
     },
     "execution_count": 240,
     "metadata": {},
     "output_type": "execute_result"
    }
   ],
   "source": [
    "gender = np.loadtxt(\"gender.txt\", \n",
    "                    dtype={'names': ('gender', 'age', 'weight'),\n",
    "                           'formats': (\"S1\", \"i4\", np.float16)})\n",
    "gender"
   ]
  },
  {
   "cell_type": "code",
   "execution_count": 241,
   "metadata": {},
   "outputs": [
    {
     "data": {
      "text/plain": [
       "array([[   0.4839,    0.4536,    0.3561],\n",
       "       [   0.1292,    0.6875, -999.    ],\n",
       "       [   0.1781,    0.3049,    0.8928],\n",
       "       [-999.    ,    0.5801,    0.2038],\n",
       "       [   0.5993,    0.4357,    0.741 ]])"
      ]
     },
     "execution_count": 241,
     "metadata": {},
     "output_type": "execute_result"
    }
   ],
   "source": [
    "my_array = np.genfromtxt('data2.txt',\n",
    "                      skip_header=1,\n",
    "                      filling_values=-999)\n",
    "\n",
    "my_array"
   ]
  },
  {
   "cell_type": "code",
   "execution_count": 242,
   "metadata": {},
   "outputs": [],
   "source": [
    "x = np.arange(0.0,6.0,1.0)\n",
    "np.savetxt('test.out', x, newline=\"\\n\", fmt='%.6f')"
   ]
  },
  {
   "cell_type": "code",
   "execution_count": 243,
   "metadata": {},
   "outputs": [
    {
     "data": {
      "text/plain": [
       "array([[0., 1., 2.],\n",
       "       [3., 4., 5.]], dtype=float16)"
      ]
     },
     "execution_count": 243,
     "metadata": {},
     "output_type": "execute_result"
    }
   ],
   "source": [
    "x = np.arange(0.0,6.0,1.0, dtype=np.float16).reshape((2,3))\n",
    "np.savetxt('test.out', x, fmt='%d', delimiter=\", \")\n",
    "x"
   ]
  },
  {
   "cell_type": "code",
   "execution_count": 244,
   "metadata": {},
   "outputs": [
    {
     "data": {
      "text/plain": [
       "array([[b'6.5', b'3.0', b'5.2', b'2.0', b'Iris-virginica'],\n",
       "       [b'6.2', b'3.4', b'5.4', b'2.3', b'Iris-virginica'],\n",
       "       [b'5.9', b'3.0', b'5.1', b'1.8', b'Iris-virginica']], dtype=object)"
      ]
     },
     "execution_count": 244,
     "metadata": {},
     "output_type": "execute_result"
    }
   ],
   "source": [
    "# Import the iris dataset keeping the text intact!\n",
    "\n",
    "url = 'https://archive.ics.uci.edu/ml/machine-learning-databases/iris/iris.data'\n",
    "iris = np.genfromtxt(url, delimiter=',', dtype='object')\n",
    "names = ('sepallength', 'sepalwidth', 'petallength', 'petalwidth', 'species')\n",
    "\n",
    "# Print the first 3 rows\n",
    "iris[-3:]"
   ]
  },
  {
   "cell_type": "code",
   "execution_count": 245,
   "metadata": {},
   "outputs": [
    {
     "name": "stdout",
     "output_type": "stream",
     "text": [
      "2\n"
     ]
    },
    {
     "data": {
      "text/plain": [
       "array([[   0.4839,    0.4536,    0.3561],\n",
       "       [   0.1292,    0.6875, -999.    ],\n",
       "       [   0.1781,    0.3049,    0.8928],\n",
       "       [-999.    ,    0.5801,    0.2038],\n",
       "       [   0.5993,    0.4357,    0.741 ]])"
      ]
     },
     "execution_count": 245,
     "metadata": {},
     "output_type": "execute_result"
    }
   ],
   "source": [
    "# Print the number of `my_array`'s dimensions\n",
    "print(my_array.ndim)\n",
    "my_array"
   ]
  },
  {
   "cell_type": "code",
   "execution_count": 246,
   "metadata": {},
   "outputs": [
    {
     "name": "stdout",
     "output_type": "stream",
     "text": [
      "15\n"
     ]
    }
   ],
   "source": [
    "# Print the number of `my_array`'s elements\n",
    "print(my_array.size)"
   ]
  },
  {
   "cell_type": "code",
   "execution_count": 247,
   "metadata": {},
   "outputs": [
    {
     "name": "stdout",
     "output_type": "stream",
     "text": [
      "  C_CONTIGUOUS : True\n",
      "  F_CONTIGUOUS : False\n",
      "  OWNDATA : True\n",
      "  WRITEABLE : True\n",
      "  ALIGNED : True\n",
      "  WRITEBACKIFCOPY : False\n",
      "  UPDATEIFCOPY : False\n",
      "\n"
     ]
    }
   ],
   "source": [
    "# Print information about `my_array`'s memory layout\n",
    "print(my_array.flags)"
   ]
  },
  {
   "cell_type": "code",
   "execution_count": 248,
   "metadata": {},
   "outputs": [
    {
     "name": "stdout",
     "output_type": "stream",
     "text": [
      "8\n"
     ]
    },
    {
     "data": {
      "text/plain": [
       "8"
      ]
     },
     "execution_count": 248,
     "metadata": {},
     "output_type": "execute_result"
    }
   ],
   "source": [
    "# Print the length of one array element in bytes\n",
    "print(my_array.itemsize)\n",
    "\n",
    "my_array[0,1].itemsize"
   ]
  },
  {
   "cell_type": "code",
   "execution_count": 249,
   "metadata": {},
   "outputs": [
    {
     "name": "stdout",
     "output_type": "stream",
     "text": [
      "120\n"
     ]
    },
    {
     "data": {
      "text/plain": [
       "120"
      ]
     },
     "execution_count": 249,
     "metadata": {},
     "output_type": "execute_result"
    }
   ],
   "source": [
    "# Print the total consumed bytes by `my_array`'s elements\n",
    "print(my_array.nbytes)\n",
    "\n",
    "15*8"
   ]
  },
  {
   "cell_type": "code",
   "execution_count": 250,
   "metadata": {},
   "outputs": [
    {
     "name": "stdout",
     "output_type": "stream",
     "text": [
      "5\n"
     ]
    }
   ],
   "source": [
    "# Print the length of `my_array`\n",
    "print(len(my_array))"
   ]
  },
  {
   "attachments": {},
   "cell_type": "markdown",
   "metadata": {},
   "source": [
    "#### Quiz\n",
    "\n",
    "Create an array in numpy with any value by following the instructions:\n",
    "\n",
    "1. Shape (100, )\n",
    "2. Choose the suitable data type that the whole array occupied only 100 bytes in RAM\n"
   ]
  },
  {
   "cell_type": "code",
   "execution_count": 251,
   "metadata": {},
   "outputs": [],
   "source": [
    "## Solution\n",
    "..."
   ]
  },
  {
   "cell_type": "code",
   "execution_count": 252,
   "metadata": {},
   "outputs": [
    {
     "data": {
      "text/plain": [
       "array([[   0.4839+0.j,    0.4536+0.j,    0.3561+0.j],\n",
       "       [   0.1292+0.j,    0.6875+0.j, -999.    +0.j],\n",
       "       [   0.1781+0.j,    0.3049+0.j,    0.8928+0.j],\n",
       "       [-999.    +0.j,    0.5801+0.j,    0.2038+0.j],\n",
       "       [   0.5993+0.j,    0.4357+0.j,    0.741 +0.j]])"
      ]
     },
     "execution_count": 252,
     "metadata": {},
     "output_type": "execute_result"
    }
   ],
   "source": [
    "# Change the data type of `my_array`\n",
    "my_array.astype(np.complex128)"
   ]
  },
  {
   "cell_type": "code",
   "execution_count": 253,
   "metadata": {},
   "outputs": [
    {
     "data": {
      "text/plain": [
       "array([[8, 7, 6],\n",
       "       [5, 4, 3],\n",
       "       [2, 1, 0]])"
      ]
     },
     "execution_count": 253,
     "metadata": {},
     "output_type": "execute_result"
    }
   ],
   "source": [
    "# Swap columns 1 and 2 in the array arr\n",
    "arr = np.arange(8,-1, -1).reshape(3,3)\n",
    "arr"
   ]
  },
  {
   "cell_type": "code",
   "execution_count": 254,
   "metadata": {},
   "outputs": [
    {
     "data": {
      "text/plain": [
       "array([[3, 4, 5],\n",
       "       [6, 7, 8],\n",
       "       [0, 1, 2]])"
      ]
     },
     "execution_count": 254,
     "metadata": {},
     "output_type": "execute_result"
    }
   ],
   "source": [
    "arr[[1,0,2], ::-1]"
   ]
  },
  {
   "cell_type": "code",
   "execution_count": 255,
   "metadata": {},
   "outputs": [
    {
     "data": {
      "text/plain": [
       "array([[0, 1, 2],\n",
       "       [3, 4, 5],\n",
       "       [6, 7, 8]])"
      ]
     },
     "execution_count": 255,
     "metadata": {},
     "output_type": "execute_result"
    }
   ],
   "source": [
    "arr = np.arange(9).reshape(3,3)\n",
    "arr"
   ]
  },
  {
   "cell_type": "code",
   "execution_count": 256,
   "metadata": {},
   "outputs": [
    {
     "data": {
      "text/plain": [
       "array([[6, 7, 8],\n",
       "       [3, 4, 5],\n",
       "       [0, 1, 2]])"
      ]
     },
     "execution_count": 256,
     "metadata": {},
     "output_type": "execute_result"
    }
   ],
   "source": [
    "# Reverse the rows of a 2D array arr\n",
    "arr[::-1]"
   ]
  },
  {
   "cell_type": "code",
   "execution_count": 257,
   "metadata": {},
   "outputs": [
    {
     "data": {
      "text/plain": [
       "array([[2, 1, 0],\n",
       "       [5, 4, 3],\n",
       "       [8, 7, 6]])"
      ]
     },
     "execution_count": 257,
     "metadata": {},
     "output_type": "execute_result"
    }
   ],
   "source": [
    "# Reverse the columns of a 2D array arr\n",
    "arr[:, ::-1]"
   ]
  },
  {
   "cell_type": "code",
   "execution_count": 258,
   "metadata": {},
   "outputs": [
    {
     "data": {
      "text/plain": [
       "array([[5.434049418e-04, 2.783693851e-04, 4.245175907e-04],\n",
       "       [8.447761323e-04, 4.718856191e-06, 1.215691208e-04],\n",
       "       [6.707490847e-04, 8.258527551e-04, 1.367065897e-04]])"
      ]
     },
     "execution_count": 258,
     "metadata": {},
     "output_type": "execute_result"
    }
   ],
   "source": [
    "# Pretty print rand_arr by suppressing the scientific notation\n",
    "\n",
    "np.set_printoptions(suppress=False)\n",
    "\n",
    "np.random.seed(100)\n",
    "rand_arr = np.random.random([3,3])/1e3\n",
    "rand_arr"
   ]
  },
  {
   "cell_type": "code",
   "execution_count": 259,
   "metadata": {},
   "outputs": [
    {
     "data": {
      "text/plain": [
       "array([[0.000543405, 0.000278369, 0.000424518],\n",
       "       [0.000844776, 0.000004719, 0.000121569],\n",
       "       [0.000670749, 0.000825853, 0.000136707]])"
      ]
     },
     "execution_count": 259,
     "metadata": {},
     "output_type": "execute_result"
    }
   ],
   "source": [
    "np.set_printoptions(suppress=True, precision=9)  # precision is optional\n",
    "rand_arr"
   ]
  },
  {
   "cell_type": "code",
   "execution_count": 260,
   "metadata": {},
   "outputs": [],
   "source": [
    "np.set_printoptions(suppress=None)"
   ]
  },
  {
   "cell_type": "code",
   "execution_count": 261,
   "metadata": {},
   "outputs": [
    {
     "data": {
      "text/plain": [
       "array([ 0,  1,  2, ..., 12, 13, 14])"
      ]
     },
     "execution_count": 261,
     "metadata": {},
     "output_type": "execute_result"
    }
   ],
   "source": [
    "a = np.arange(15)\n",
    "a"
   ]
  },
  {
   "cell_type": "code",
   "execution_count": 262,
   "metadata": {},
   "outputs": [
    {
     "data": {
      "text/plain": [
       "array([ 0,  1,  2, ..., 12, 13, 14])"
      ]
     },
     "execution_count": 262,
     "metadata": {},
     "output_type": "execute_result"
    }
   ],
   "source": [
    "np.set_printoptions(threshold=6)\n",
    "a = np.arange(15)\n",
    "a"
   ]
  },
  {
   "cell_type": "code",
   "execution_count": 263,
   "metadata": {},
   "outputs": [],
   "source": [
    "np.set_printoptions(threshold=10)"
   ]
  },
  {
   "attachments": {},
   "cell_type": "markdown",
   "metadata": {},
   "source": [
    "## Broadcasting\n",
    "\n",
    "![npi](nparr.png)"
   ]
  },
  {
   "cell_type": "code",
   "execution_count": 264,
   "metadata": {},
   "outputs": [
    {
     "data": {
      "text/plain": [
       "array([[1., 1., 1., 1.],\n",
       "       [1., 1., 1., 1.],\n",
       "       [1., 1., 1., 1.]])"
      ]
     },
     "execution_count": 264,
     "metadata": {},
     "output_type": "execute_result"
    }
   ],
   "source": [
    "# Initialize `x`\n",
    "x = np.ones((3,4))\n",
    "x"
   ]
  },
  {
   "cell_type": "code",
   "execution_count": 265,
   "metadata": {},
   "outputs": [
    {
     "name": "stdout",
     "output_type": "stream",
     "text": [
      "(3, 4)\n"
     ]
    }
   ],
   "source": [
    "# Check shape of `x`\n",
    "print(x.shape)"
   ]
  },
  {
   "cell_type": "code",
   "execution_count": 266,
   "metadata": {},
   "outputs": [
    {
     "data": {
      "text/plain": [
       "array([[0.575093329, 0.891321954, 0.209202122, 0.18532822 ],\n",
       "       [0.10837689 , 0.219697493, 0.978623785, 0.811683149],\n",
       "       [0.171941013, 0.816224749, 0.274073747, 0.431704184]])"
      ]
     },
     "execution_count": 266,
     "metadata": {},
     "output_type": "execute_result"
    }
   ],
   "source": [
    "# Initialize `y`\n",
    "y = np.random.random((3,4))\n",
    "y"
   ]
  },
  {
   "cell_type": "code",
   "execution_count": 267,
   "metadata": {},
   "outputs": [
    {
     "name": "stdout",
     "output_type": "stream",
     "text": [
      "(3, 4)\n"
     ]
    }
   ],
   "source": [
    "# Check shape of `y`\n",
    "print(y.shape)"
   ]
  },
  {
   "cell_type": "code",
   "execution_count": 268,
   "metadata": {},
   "outputs": [
    {
     "data": {
      "text/plain": [
       "array([[1.575093329, 1.891321954, 1.209202122, 1.18532822 ],\n",
       "       [1.10837689 , 1.219697493, 1.978623785, 1.811683149],\n",
       "       [1.171941013, 1.816224749, 1.274073747, 1.431704184]])"
      ]
     },
     "execution_count": 268,
     "metadata": {},
     "output_type": "execute_result"
    }
   ],
   "source": [
    "# Add `x` and `y`    Broadcasting!\n",
    "x + y"
   ]
  },
  {
   "cell_type": "code",
   "execution_count": 269,
   "metadata": {},
   "outputs": [
    {
     "data": {
      "text/plain": [
       "array([[1., 1., 1., 1.],\n",
       "       [1., 1., 1., 1.],\n",
       "       [1., 1., 1., 1.]])"
      ]
     },
     "execution_count": 269,
     "metadata": {},
     "output_type": "execute_result"
    }
   ],
   "source": [
    "# Initialize `x`\n",
    "x = np.ones((3,4))\n",
    "x"
   ]
  },
  {
   "cell_type": "code",
   "execution_count": 270,
   "metadata": {},
   "outputs": [
    {
     "name": "stdout",
     "output_type": "stream",
     "text": [
      "(3, 4)\n"
     ]
    },
    {
     "data": {
      "text/plain": [
       "array([[1., 1., 1., 1.],\n",
       "       [1., 1., 1., 1.],\n",
       "       [1., 1., 1., 1.]])"
      ]
     },
     "execution_count": 270,
     "metadata": {},
     "output_type": "execute_result"
    }
   ],
   "source": [
    "# Check shape of `x`\n",
    "print(x.shape)\n",
    "x"
   ]
  },
  {
   "cell_type": "code",
   "execution_count": 271,
   "metadata": {},
   "outputs": [
    {
     "data": {
      "text/plain": [
       "array([0, 1, 2, 3])"
      ]
     },
     "execution_count": 271,
     "metadata": {},
     "output_type": "execute_result"
    }
   ],
   "source": [
    "# Initialize `y`\n",
    "y = np.arange(4)\n",
    "y"
   ]
  },
  {
   "cell_type": "code",
   "execution_count": 272,
   "metadata": {},
   "outputs": [
    {
     "name": "stdout",
     "output_type": "stream",
     "text": [
      "(4,)\n"
     ]
    },
    {
     "data": {
      "text/plain": [
       "array([0, 1, 2, 3])"
      ]
     },
     "execution_count": 272,
     "metadata": {},
     "output_type": "execute_result"
    }
   ],
   "source": [
    "# Check shape of `y`\n",
    "print(y.shape)\n",
    "y "
   ]
  },
  {
   "cell_type": "code",
   "execution_count": 273,
   "metadata": {},
   "outputs": [
    {
     "data": {
      "text/plain": [
       "array([[1., 2., 3., 4.],\n",
       "       [1., 2., 3., 4.],\n",
       "       [1., 2., 3., 4.]])"
      ]
     },
     "execution_count": 273,
     "metadata": {},
     "output_type": "execute_result"
    }
   ],
   "source": [
    "x + y"
   ]
  },
  {
   "cell_type": "code",
   "execution_count": 274,
   "metadata": {},
   "outputs": [
    {
     "data": {
      "text/plain": [
       "(array([0, 1, 2, 3]), array([5, 6, 7, 8]))"
      ]
     },
     "execution_count": 274,
     "metadata": {},
     "output_type": "execute_result"
    }
   ],
   "source": [
    "x = np.arange(5, 9)\n",
    "y = np.arange(4)\n",
    "y , x"
   ]
  },
  {
   "cell_type": "code",
   "execution_count": 275,
   "metadata": {},
   "outputs": [
    {
     "data": {
      "text/plain": [
       "array([ 5,  7,  9, 11])"
      ]
     },
     "execution_count": 275,
     "metadata": {},
     "output_type": "execute_result"
    }
   ],
   "source": [
    "x + y"
   ]
  },
  {
   "cell_type": "code",
   "execution_count": 276,
   "metadata": {},
   "outputs": [
    {
     "data": {
      "text/plain": [
       "array([[ 5,  6,  7,  8],\n",
       "       [ 6,  7,  8,  9],\n",
       "       [ 7,  8,  9, 10],\n",
       "       [ 8,  9, 10, 11]])"
      ]
     },
     "execution_count": 276,
     "metadata": {},
     "output_type": "execute_result"
    }
   ],
   "source": [
    "x = x.reshape(1,4)\n",
    "y = y.reshape(4,1)\n",
    "\n",
    "x + y"
   ]
  },
  {
   "cell_type": "code",
   "execution_count": 277,
   "metadata": {},
   "outputs": [
    {
     "data": {
      "text/plain": [
       "array([[  1,   1,   1,   1],\n",
       "       [  5,   6,   7,   8],\n",
       "       [ 25,  36,  49,  64],\n",
       "       [125, 216, 343, 512]], dtype=int32)"
      ]
     },
     "execution_count": 277,
     "metadata": {},
     "output_type": "execute_result"
    }
   ],
   "source": [
    "# Subtract `x` and `y`   Broadcasting!\n",
    "x ** y"
   ]
  },
  {
   "cell_type": "code",
   "execution_count": 278,
   "metadata": {},
   "outputs": [
    {
     "data": {
      "text/plain": [
       "(array([[1., 1., 1., 1.],\n",
       "        [1., 1., 1., 1.],\n",
       "        [1., 1., 1., 1.]]),\n",
       " array([[[0.94002982 , 0.817649379, 0.33611195 , 0.175410454]],\n",
       " \n",
       "        [[0.372832046, 0.005688507, 0.252426353, 0.795662508]],\n",
       " \n",
       "        [[0.015254971, 0.598843377, 0.603804539, 0.105147685]],\n",
       " \n",
       "        [[0.381943445, 0.036476057, 0.890411563, 0.980920857]],\n",
       " \n",
       "        [[0.059941989, 0.890545945, 0.576901499, 0.742479689]]]))"
      ]
     },
     "execution_count": 278,
     "metadata": {},
     "output_type": "execute_result"
    }
   ],
   "source": [
    "# Initialize `x` and `y`\n",
    "x = np.ones((3,4))\n",
    "y = np.random.random((5,1,4))\n",
    "\n",
    "x, y"
   ]
  },
  {
   "cell_type": "code",
   "execution_count": 279,
   "metadata": {},
   "outputs": [
    {
     "data": {
      "text/plain": [
       "array([[[1.94002982 , 1.817649379, 1.33611195 , 1.175410454],\n",
       "        [1.94002982 , 1.817649379, 1.33611195 , 1.175410454],\n",
       "        [1.94002982 , 1.817649379, 1.33611195 , 1.175410454]],\n",
       "\n",
       "       [[1.372832046, 1.005688507, 1.252426353, 1.795662508],\n",
       "        [1.372832046, 1.005688507, 1.252426353, 1.795662508],\n",
       "        [1.372832046, 1.005688507, 1.252426353, 1.795662508]],\n",
       "\n",
       "       [[1.015254971, 1.598843377, 1.603804539, 1.105147685],\n",
       "        [1.015254971, 1.598843377, 1.603804539, 1.105147685],\n",
       "        [1.015254971, 1.598843377, 1.603804539, 1.105147685]],\n",
       "\n",
       "       [[1.381943445, 1.036476057, 1.890411563, 1.980920857],\n",
       "        [1.381943445, 1.036476057, 1.890411563, 1.980920857],\n",
       "        [1.381943445, 1.036476057, 1.890411563, 1.980920857]],\n",
       "\n",
       "       [[1.059941989, 1.890545945, 1.576901499, 1.742479689],\n",
       "        [1.059941989, 1.890545945, 1.576901499, 1.742479689],\n",
       "        [1.059941989, 1.890545945, 1.576901499, 1.742479689]]])"
      ]
     },
     "execution_count": 279,
     "metadata": {},
     "output_type": "execute_result"
    }
   ],
   "source": [
    "# Add `x` and `y`\n",
    "x + y    # (5,3,4)"
   ]
  },
  {
   "cell_type": "markdown",
   "metadata": {},
   "source": [
    "**a.sum()**\tArray-wise sum\n",
    "\n",
    "**a.min()**\tArray-wise minimum value\n",
    "\n",
    "**b.max(axis=0)**\tMaximum value of an array row\n",
    "\n",
    "**b.cumsum(axis=1)**\tCumulative sum of the elements\n",
    "\n",
    "**a.mean()**\tMean\n",
    "\n",
    "_b.median()_\tMedian\n",
    "\n",
    "**a.corrcoef()**\tCorrelation coefficient\n",
    "\n",
    "**np.std(b)**\tStandard deviation\n"
   ]
  },
  {
   "cell_type": "code",
   "execution_count": 280,
   "metadata": {},
   "outputs": [
    {
     "data": {
      "text/plain": [
       "array([[1, 2, 3],\n",
       "       [4, 5, 6]])"
      ]
     },
     "execution_count": 280,
     "metadata": {},
     "output_type": "execute_result"
    }
   ],
   "source": [
    "a = np.array([[1,2,3],[4,5,6]])\n",
    "\n",
    "a"
   ]
  },
  {
   "cell_type": "code",
   "execution_count": 281,
   "metadata": {},
   "outputs": [
    {
     "data": {
      "text/plain": [
       "21"
      ]
     },
     "execution_count": 281,
     "metadata": {},
     "output_type": "execute_result"
    }
   ],
   "source": [
    "a.sum()"
   ]
  },
  {
   "cell_type": "code",
   "execution_count": 282,
   "metadata": {},
   "outputs": [
    {
     "data": {
      "text/plain": [
       "array([11, 12, 13, 14, 15])"
      ]
     },
     "execution_count": 282,
     "metadata": {},
     "output_type": "execute_result"
    }
   ],
   "source": [
    "np.array([1,2,3,4,5]) + 10"
   ]
  },
  {
   "cell_type": "code",
   "execution_count": 283,
   "metadata": {},
   "outputs": [
    {
     "data": {
      "text/plain": [
       "array([10, 20, 30, 40, 50])"
      ]
     },
     "execution_count": 283,
     "metadata": {},
     "output_type": "execute_result"
    }
   ],
   "source": [
    "np.array([1,2,3,4,5]) * 10"
   ]
  },
  {
   "cell_type": "code",
   "execution_count": 284,
   "metadata": {},
   "outputs": [
    {
     "data": {
      "text/plain": [
       "array([[14],\n",
       "       [32]])"
      ]
     },
     "execution_count": 284,
     "metadata": {},
     "output_type": "execute_result"
    }
   ],
   "source": [
    "a1 = np.array([[1,2], [3,4]])\n",
    "\n",
    "a2 = np.array([[4],[5]])\n",
    "\n",
    "a1.dot(a2)"
   ]
  },
  {
   "cell_type": "code",
   "execution_count": 285,
   "metadata": {},
   "outputs": [
    {
     "data": {
      "text/plain": [
       "1.2246467991473532e-16"
      ]
     },
     "execution_count": 285,
     "metadata": {},
     "output_type": "execute_result"
    }
   ],
   "source": [
    "np.sin(np.pi)"
   ]
  },
  {
   "cell_type": "code",
   "execution_count": 286,
   "metadata": {},
   "outputs": [
    {
     "data": {
      "text/plain": [
       "array([0., 1.])"
      ]
     },
     "execution_count": 286,
     "metadata": {},
     "output_type": "execute_result"
    }
   ],
   "source": [
    "np.sin([np.pi, np.pi/2])"
   ]
  },
  {
   "cell_type": "code",
   "execution_count": 287,
   "metadata": {},
   "outputs": [
    {
     "data": {
      "text/plain": [
       "array([[1, 2],\n",
       "       [3, 4],\n",
       "       [5, 6],\n",
       "       [7, 8]])"
      ]
     },
     "execution_count": 287,
     "metadata": {},
     "output_type": "execute_result"
    }
   ],
   "source": [
    "a = np.array([[1,2], [3,4], [5,6], [7,8]])\n",
    "a"
   ]
  },
  {
   "cell_type": "code",
   "execution_count": 288,
   "metadata": {},
   "outputs": [
    {
     "data": {
      "text/plain": [
       "array([[1, 0],\n",
       "       [3, 0],\n",
       "       [5, 0],\n",
       "       [7, 1]])"
      ]
     },
     "execution_count": 288,
     "metadata": {},
     "output_type": "execute_result"
    }
   ],
   "source": [
    "a[:, 1] = np.array([False, False, False, True])\n",
    "a"
   ]
  },
  {
   "cell_type": "code",
   "execution_count": 289,
   "metadata": {},
   "outputs": [
    {
     "data": {
      "text/plain": [
       "nan"
      ]
     },
     "execution_count": 289,
     "metadata": {},
     "output_type": "execute_result"
    }
   ],
   "source": [
    "float(\"nan\")"
   ]
  },
  {
   "cell_type": "code",
   "execution_count": 290,
   "metadata": {},
   "outputs": [
    {
     "data": {
      "text/plain": [
       "False"
      ]
     },
     "execution_count": 290,
     "metadata": {},
     "output_type": "execute_result"
    }
   ],
   "source": [
    "float(\"nan\") == float(\"nan\")"
   ]
  },
  {
   "cell_type": "code",
   "execution_count": 291,
   "metadata": {},
   "outputs": [
    {
     "data": {
      "text/plain": [
       "True"
      ]
     },
     "execution_count": 291,
     "metadata": {},
     "output_type": "execute_result"
    }
   ],
   "source": [
    "np.isnan(float(\"nan\"))"
   ]
  },
  {
   "cell_type": "code",
   "execution_count": 292,
   "metadata": {},
   "outputs": [
    {
     "data": {
      "text/plain": [
       "True"
      ]
     },
     "execution_count": 292,
     "metadata": {},
     "output_type": "execute_result"
    }
   ],
   "source": [
    "np.isnan([float(\"nan\"), 1, 4, 0]).any()"
   ]
  },
  {
   "cell_type": "markdown",
   "metadata": {},
   "source": [
    "## Importing/exporting\n",
    "`np.loadtxt('file.txt')` | From a text file\n",
    "\n",
    "`np.genfromtxt('file.csv',delimiter=',')` | From a CSV file\n",
    "\n",
    "`np.savetxt('file.txt',arr,delimiter=' ')` | Writes to a text file\n",
    "\n",
    "`np.savetxt('file.csv',arr,delimiter=',')` | Writes to a CSV file\n",
    "\n",
    "\n",
    "## Creating Arrays\n",
    "`np.array([1,2,3])` | One dimensional array\n",
    "\n",
    "`np.array([(1,2,3),(4,5,6)])` | Two dimensional array\n",
    "\n",
    "`np.zeros(3)` | 1D array of length 3 all values 0\n",
    "\n",
    "`np.ones((3,4))` | 3x4 array with all values 1\n",
    "\n",
    "`np.eye(5)` | 5x5 array of 0 with 1 on diagonal (Identity matrix)\n",
    "\n",
    "`np.linspace(0,100,6)` | Array of 6 evenly divided values from 0 to 100\n",
    "\n",
    "`np.arange(0,10,3)` | Array of values from 0 to less than 10 with step 3 (eg `[0,3,6,9]`)\n",
    "\n",
    "`np.full((2,3),8)` | 2x3 array with all values 8\n",
    "\n",
    "`np.random.rand(4,5)` | 4x5 array of random floats between 0-1\n",
    "\n",
    "`np.random.rand(6,7)*100` | 6x7 array of random floats between 0-100\n",
    "\n",
    "`np.random.randint(5,size=(2,3))` | 2x3 array with random ints between 0-4\n",
    "\n",
    "\n",
    "## Inspecting Properties\n",
    "`arr.size` | Returns number of elements in `arr`\n",
    "\n",
    "`arr.shape` | Returns dimensions of `arr` (rows,columns)\n",
    "\n",
    "`arr.dtype` | Returns type of elements in `arr`\n",
    "\n",
    "`arr.astype(dtype)` | Convert `arr` elements to type dtype\n",
    "\n",
    "`arr.tolist()` | Convert `arr` to a Python list\n",
    "\n",
    "`np.info(np.eye)` | View documentation for `np.eye`\n",
    "\n",
    "\n",
    "## Copying/sorting/reshaping\n",
    "`np.copy(arr)` | Copies `arr` to new memory\n",
    "\n",
    "`arr.view(dtype)` | Creates view of `arr` elements with type dtype\n",
    "\n",
    "`arr.sort()` | Sorts `arr`\n",
    "\n",
    "`arr.sort(axis=0)` | Sorts specific axis of `arr`\n",
    "\n",
    "`two_d_arr.flatten()` | Flattens 2D array `two_d_arr` to 1D\n",
    "\n",
    "`arr.T` | Transposes `arr` (rows become columns and vice versa)\n",
    "\n",
    "`arr.reshape(3,4)` | Reshapes `arr` to 3 rows, 4 columns without changing data\n",
    "\n",
    "`arr.resize((5,6))` | Changes `arr` shape to 5x6 and fills new values with 0\n",
    "\n",
    "\n",
    "## Adding/removing Elements\n",
    "`np.append(arr,values)` | Appends values to end of `arr`\n",
    "\n",
    "`np.insert(arr,2,values)` | Inserts values into `arr` before index 2\n",
    "\n",
    "`np.delete(arr,3,axis=0)` | Deletes row on index 3 of `arr`\n",
    "\n",
    "`np.delete(arr,4,axis=1)` | Deletes column on index 4 of `arr`\n",
    "\n",
    "\n",
    "## Combining/splitting\n",
    "`np.concatenate((arr1,arr2),axis=0)` | Adds `arr2` as rows to the end of `arr1`\n",
    "\n",
    "`np.concatenate((arr1,arr2),axis=1)` | Adds `arr2` as columns to end of `arr1`\n",
    "\n",
    "`np.split(arr,3)` | Splits `arr` into 3 sub-arrays\n",
    "\n",
    "`np.hsplit(arr,5)` | Splits `arr` horizontally on the 5th index\n",
    "\n",
    "\n",
    "## Indexing/slicing/subsetting\n",
    "`arr[5]` | Returns the element at index 5\n",
    "\n",
    "`arr[2,5]` | Returns the 2D array element on index `[2][5]`\n",
    "\n",
    "`arr[1]=4` | Assigns array element on index `1` the value `4`\n",
    "\n",
    "`arr[1,3]=10` | Assigns array element on index `[1][3]` the value 10\n",
    "\n",
    "`arr[0:3]` | Returns the elements at indices `0,1,2` (On a 2D array: returns rows `0,1,2`)\n",
    "\n",
    "`arr[0:3,4]` | Returns the elements on rows `0,1,2` at column `4`\n",
    "\n",
    "`arr[:2]` | Returns the elements at indices `0,1` (On a 2D array: returns rows `0,1`)\n",
    "\n",
    "`arr[:,1]` | Returns the elements at index `1` on all rows\n",
    "\n",
    "`arr<5` | Returns an array with boolean values\n",
    "\n",
    "`(arr1<3) & (arr2>5)` | Returns an array with boolean values\n",
    "\n",
    "`~arr` | Inverts a boolean array\n",
    "\n",
    "`arr[arr<5]` | Returns array elements smaller than `5`\n",
    "\n",
    "\n",
    "## Scalar Math\n",
    "`np.add(arr,1)` | Add 1 to each array element\n",
    "\n",
    "`np.subtract(arr,2)` | Subtract 2 from each array element\n",
    "\n",
    "`np.multiply(arr,3)` | Multiply each array element by 3\n",
    "\n",
    "`np.divide(arr,4)` | Divide each array element by 4 (returns `np.nan` for division by zero)\n",
    "\n",
    "`np.power(arr,5)` | Raise each array element to the 5th power\n",
    "\n",
    "\n",
    "## Vector Math\n",
    "`np.add(arr1,arr2)` | Elementwise add `arr2` to `arr1`\n",
    "\n",
    "`np.subtract(arr1,arr2)` | Elementwise subtract `arr2` from `arr1`\n",
    "\n",
    "`np.multiply(arr1,arr2)` | Elementwise multiply `arr1` by `arr2`\n",
    "\n",
    "`np.divide(arr1,arr2)` | Elementwise divide `arr1` by `arr2`\n",
    "\n",
    "`np.power(arr1,arr2)` | Elementwise raise `arr1` raised to the power of `arr2`\n",
    "\n",
    "`np.array_equal(arr1,arr2)` | Returns True if the arrays have the same elements and shape\n",
    "\n",
    "`np.sqrt(arr)` | Square root of each element in the array\n",
    "\n",
    "`np.sin(arr)` | Sine of each element in the array\n",
    "\n",
    "`np.log(arr)` | Natural log of each element in the array\n",
    "\n",
    "`np.abs(arr)` | Absolute value of each element in the array\n",
    "\n",
    "`np.ceil(arr)` | Rounds up to the nearest int\n",
    "\n",
    "`np.floor(arr)` | Rounds down to the nearest int\n",
    "\n",
    "`np.round(arr)` | Rounds to the nearest int\n",
    "\n",
    "\n",
    "## Statistics\n",
    "`np.mean(arr,axis=0)` | Returns mean along specific axis\n",
    "\n",
    "`arr.sum()` | Returns sum of `arr`\n",
    "\n",
    "`arr.min()` | Returns minimum value of `arr`\n",
    "\n",
    "`arr.max(axis=0)` | Returns maximum value of specific axis\n",
    "\n",
    "`np.var(arr)` | Returns the variance of array\n",
    "\n",
    "`np.std(arr,axis=1)` | Returns the standard deviation of specific axis\n",
    "\n",
    "`arr.corrcoef()` | Returns correlation coefficient of array\n"
   ]
  },
  {
   "cell_type": "markdown",
   "metadata": {},
   "source": [
    "### Remove the NaN elements!"
   ]
  },
  {
   "cell_type": "markdown",
   "metadata": {},
   "source": [
    "#### 1D"
   ]
  },
  {
   "cell_type": "code",
   "execution_count": 293,
   "metadata": {},
   "outputs": [
    {
     "data": {
      "text/plain": [
       "array([ 1.,  2.,  3., nan,  5.,  6.,  7., nan])"
      ]
     },
     "execution_count": 293,
     "metadata": {},
     "output_type": "execute_result"
    }
   ],
   "source": [
    "a = np.array([1,2,3,np.nan,5,6,7,np.nan])\n",
    "a"
   ]
  },
  {
   "cell_type": "code",
   "execution_count": 294,
   "metadata": {},
   "outputs": [
    {
     "data": {
      "text/plain": [
       "array([ True,  True,  True, False,  True,  True,  True, False])"
      ]
     },
     "execution_count": 294,
     "metadata": {},
     "output_type": "execute_result"
    }
   ],
   "source": [
    "~np.isnan(a)"
   ]
  },
  {
   "cell_type": "code",
   "execution_count": 295,
   "metadata": {},
   "outputs": [
    {
     "data": {
      "text/plain": [
       "array([1., 2., 3., 5., 6., 7.])"
      ]
     },
     "execution_count": 295,
     "metadata": {},
     "output_type": "execute_result"
    }
   ],
   "source": [
    "a[~np.isnan(a)]"
   ]
  },
  {
   "cell_type": "markdown",
   "metadata": {},
   "source": [
    "#### 2D"
   ]
  },
  {
   "cell_type": "code",
   "execution_count": 296,
   "metadata": {},
   "outputs": [
    {
     "data": {
      "text/plain": [
       "array([[ 1.,  2.],\n",
       "       [ 3.,  4.],\n",
       "       [ 5., nan],\n",
       "       [ 6.,  7.]])"
      ]
     },
     "execution_count": 296,
     "metadata": {},
     "output_type": "execute_result"
    }
   ],
   "source": [
    "arr = np.array([[1,2], [3,4], [5, float(\"NaN\")], [6,7]])\n",
    "arr"
   ]
  },
  {
   "cell_type": "code",
   "execution_count": 297,
   "metadata": {},
   "outputs": [
    {
     "data": {
      "text/plain": [
       "True"
      ]
     },
     "execution_count": 297,
     "metadata": {},
     "output_type": "execute_result"
    }
   ],
   "source": [
    "np.isnan(arr).any()   # find if a given array has any null values "
   ]
  },
  {
   "cell_type": "code",
   "execution_count": 298,
   "metadata": {},
   "outputs": [
    {
     "data": {
      "text/plain": [
       "array([ 2.,  4., nan,  7.])"
      ]
     },
     "execution_count": 298,
     "metadata": {},
     "output_type": "execute_result"
    }
   ],
   "source": [
    "arr[:, 1]"
   ]
  },
  {
   "cell_type": "code",
   "execution_count": 299,
   "metadata": {},
   "outputs": [
    {
     "data": {
      "text/plain": [
       "array([ True,  True, False,  True])"
      ]
     },
     "execution_count": 299,
     "metadata": {},
     "output_type": "execute_result"
    }
   ],
   "source": [
    "~np.isnan(arr[:, 1])"
   ]
  },
  {
   "cell_type": "code",
   "execution_count": 300,
   "metadata": {},
   "outputs": [
    {
     "data": {
      "text/plain": [
       "array([ True,  True, False,  True])"
      ]
     },
     "execution_count": 300,
     "metadata": {},
     "output_type": "execute_result"
    }
   ],
   "source": [
    "np.logical_not(np.isnan(arr[:, 1]))     # In Other Method : ~np.isnan(arr.sum(axis=1))"
   ]
  },
  {
   "cell_type": "code",
   "execution_count": 301,
   "metadata": {},
   "outputs": [
    {
     "data": {
      "text/plain": [
       "array([[1., 2.],\n",
       "       [3., 4.],\n",
       "       [6., 7.]])"
      ]
     },
     "execution_count": 301,
     "metadata": {},
     "output_type": "execute_result"
    }
   ],
   "source": [
    "arr[np.logical_not(np.isnan(arr[:, 1]))]"
   ]
  },
  {
   "cell_type": "markdown",
   "metadata": {},
   "source": [
    "###  Replace NaN elements with 0!"
   ]
  },
  {
   "cell_type": "code",
   "execution_count": 302,
   "metadata": {},
   "outputs": [
    {
     "data": {
      "text/plain": [
       "array([[ 1.,  2.],\n",
       "       [ 3.,  4.],\n",
       "       [ 5., nan],\n",
       "       [ 6.,  7.]])"
      ]
     },
     "execution_count": 302,
     "metadata": {},
     "output_type": "execute_result"
    }
   ],
   "source": [
    "arr = np.array([[1,2], [3,4], [5, float(\"NaN\")], [6,7]])\n",
    "arr"
   ]
  },
  {
   "cell_type": "code",
   "execution_count": 303,
   "metadata": {},
   "outputs": [
    {
     "data": {
      "text/plain": [
       "array([[1., 2.],\n",
       "       [3., 4.],\n",
       "       [5., 0.],\n",
       "       [6., 7.]])"
      ]
     },
     "execution_count": 303,
     "metadata": {},
     "output_type": "execute_result"
    }
   ],
   "source": [
    "arr[np.isnan(arr)] = 0\n",
    "arr"
   ]
  },
  {
   "cell_type": "markdown",
   "metadata": {},
   "source": [
    "## Sort an arr!"
   ]
  },
  {
   "cell_type": "code",
   "execution_count": 304,
   "metadata": {},
   "outputs": [
    {
     "data": {
      "text/plain": [
       "array([ 1, 10,  5,  2,  8,  9])"
      ]
     },
     "execution_count": 304,
     "metadata": {},
     "output_type": "execute_result"
    }
   ],
   "source": [
    "# 1D\n",
    "x = np.array([1, 10, 5, 2, 8, 9])\n",
    "x"
   ]
  },
  {
   "cell_type": "code",
   "execution_count": 305,
   "metadata": {},
   "outputs": [
    {
     "data": {
      "text/plain": [
       "array([0, 3, 2, 4, 5, 1], dtype=int64)"
      ]
     },
     "execution_count": 305,
     "metadata": {},
     "output_type": "execute_result"
    }
   ],
   "source": [
    "# With argsort!\n",
    "sort_index = np.argsort(x)\n",
    "sort_index"
   ]
  },
  {
   "cell_type": "code",
   "execution_count": 306,
   "metadata": {},
   "outputs": [
    {
     "data": {
      "text/plain": [
       "(array([ 1,  2,  5,  8,  9, 10]), array([ 1, 10,  5,  2,  8,  9]))"
      ]
     },
     "execution_count": 306,
     "metadata": {},
     "output_type": "execute_result"
    }
   ],
   "source": [
    "x[sort_index], x"
   ]
  },
  {
   "cell_type": "code",
   "execution_count": 307,
   "metadata": {},
   "outputs": [
    {
     "data": {
      "text/plain": [
       "array([ 1,  2,  5,  8,  9, 10])"
      ]
     },
     "execution_count": 307,
     "metadata": {},
     "output_type": "execute_result"
    }
   ],
   "source": [
    "x.sort()\n",
    "x"
   ]
  },
  {
   "cell_type": "code",
   "execution_count": 308,
   "metadata": {},
   "outputs": [
    {
     "data": {
      "text/plain": [
       "array([[2, 5, 3],\n",
       "       [1, 4, 4],\n",
       "       [4, 1, 2],\n",
       "       [5, 3, 4],\n",
       "       [4, 5, 3],\n",
       "       [5, 4, 2]])"
      ]
     },
     "execution_count": 308,
     "metadata": {},
     "output_type": "execute_result"
    }
   ],
   "source": [
    "# 2D\n",
    "x = np.random.randint(1,6, size=(6,3))\n",
    "x"
   ]
  },
  {
   "cell_type": "code",
   "execution_count": 309,
   "metadata": {},
   "outputs": [
    {
     "data": {
      "text/plain": [
       "array([2, 5, 0, 4, 1, 3], dtype=int64)"
      ]
     },
     "execution_count": 309,
     "metadata": {},
     "output_type": "execute_result"
    }
   ],
   "source": [
    "sort_index = x[:, 2].argsort()\n",
    "sort_index"
   ]
  },
  {
   "cell_type": "code",
   "execution_count": 310,
   "metadata": {},
   "outputs": [
    {
     "data": {
      "text/plain": [
       "(array([[4, 1, 2],\n",
       "        [5, 4, 2],\n",
       "        [2, 5, 3],\n",
       "        [4, 5, 3],\n",
       "        [1, 4, 4],\n",
       "        [5, 3, 4]]),\n",
       " array([[2, 5, 3],\n",
       "        [1, 4, 4],\n",
       "        [4, 1, 2],\n",
       "        [5, 3, 4],\n",
       "        [4, 5, 3],\n",
       "        [5, 4, 2]]))"
      ]
     },
     "execution_count": 310,
     "metadata": {},
     "output_type": "execute_result"
    }
   ],
   "source": [
    "x[sort_index], x"
   ]
  },
  {
   "cell_type": "markdown",
   "metadata": {},
   "source": [
    "## MultiLevel Sort!"
   ]
  },
  {
   "cell_type": "code",
   "execution_count": 311,
   "metadata": {},
   "outputs": [
    {
     "data": {
      "text/plain": [
       "array([(1, 9), (5, 4), (1, 0), (4, 4), (3, 0), (4, 2), (4, 1)],\n",
       "      dtype=[('x', '<i4'), ('y', '<i4')])"
      ]
     },
     "execution_count": 311,
     "metadata": {},
     "output_type": "execute_result"
    }
   ],
   "source": [
    "x = np.array([(1,9), (5,4), (1,0), (4,4), (3,0), (4,2), (4,1)],\n",
    "             dtype=np.dtype([('x', int), ('y', int)]))\n",
    "x"
   ]
  },
  {
   "cell_type": "code",
   "execution_count": 312,
   "metadata": {},
   "outputs": [
    {
     "data": {
      "text/plain": [
       "array([(1, 0), (3, 0), (4, 1), (4, 2), (4, 4), (5, 4), (1, 9)],\n",
       "      dtype=[('x', '<i4'), ('y', '<i4')])"
      ]
     },
     "execution_count": 312,
     "metadata": {},
     "output_type": "execute_result"
    }
   ],
   "source": [
    "x.sort(order=('y', 'x'))     # or sort_index=np.argsort(x, order=('y', 'x'))\n",
    "x"
   ]
  },
  {
   "cell_type": "markdown",
   "metadata": {},
   "source": [
    "### Numpy Speed"
   ]
  },
  {
   "cell_type": "code",
   "execution_count": 313,
   "metadata": {},
   "outputs": [
    {
     "data": {
      "text/plain": [
       "array([[177, 181, 812, ..., 685, 514, 218],\n",
       "       [203, 379, 908, ..., 712, 309, 568],\n",
       "       [770, 826, 817, ..., 150,  23, 974],\n",
       "       ...,\n",
       "       [482, 848, 554, ..., 555, 775, 555],\n",
       "       [378, 522, 758, ...,  70, 867, 153],\n",
       "       [826, 229, 140, ..., 566, 580, 482]])"
      ]
     },
     "execution_count": 313,
     "metadata": {},
     "output_type": "execute_result"
    }
   ],
   "source": [
    "a = np.random.randint(1, int(1e3), (1000, 1000))\n",
    "a"
   ]
  },
  {
   "cell_type": "code",
   "execution_count": 314,
   "metadata": {},
   "outputs": [
    {
     "name": "stderr",
     "output_type": "stream",
     "text": [
      "<magic-timeit>:5: RuntimeWarning: overflow encountered in long_scalars\n"
     ]
    },
    {
     "name": "stdout",
     "output_type": "stream",
     "text": [
      "819 ms ± 101 ms per loop (mean ± std. dev. of 7 runs, 1 loop each)\n"
     ]
    }
   ],
   "source": [
    "%%timeit\n",
    "\n",
    "k = 0\n",
    "for i in range(1, 1000):\n",
    "    for j in range(1000):\n",
    "        k += 1\n",
    "        a[i, j] += a[i-1, j] + k  "
   ]
  },
  {
   "cell_type": "code",
   "execution_count": 315,
   "metadata": {},
   "outputs": [
    {
     "name": "stderr",
     "output_type": "stream",
     "text": [
      "<magic-timeit>:5: RuntimeWarning: overflow encountered in long_scalars\n"
     ]
    },
    {
     "name": "stdout",
     "output_type": "stream",
     "text": [
      "1.07 s ± 134 ms per loop (mean ± std. dev. of 7 runs, 1 loop each)\n"
     ]
    }
   ],
   "source": [
    "%%timeit\n",
    "\n",
    "k = 0\n",
    "for i in range(1, 1000):\n",
    "    for j in range(1000):\n",
    "        k += 1\n",
    "        a[i][j] += a[i-1][j] + k  "
   ]
  },
  {
   "cell_type": "code",
   "execution_count": 316,
   "metadata": {},
   "outputs": [
    {
     "name": "stdout",
     "output_type": "stream",
     "text": [
      "358 ms ± 16 ms per loop (mean ± std. dev. of 7 runs, 1 loop each)\n"
     ]
    }
   ],
   "source": [
    "%%timeit\n",
    "\n",
    "k = 0\n",
    "for i in range(1, 1000):\n",
    "    for j in range(1000):\n",
    "        k += 1\n",
    "        a.itemset(i, j, a.item(i-1,j)+k)"
   ]
  },
  {
   "attachments": {},
   "cell_type": "markdown",
   "metadata": {},
   "source": [
    "### Find 3 Minimum values in a numpy array with their indices"
   ]
  },
  {
   "cell_type": "code",
   "execution_count": 317,
   "metadata": {},
   "outputs": [
    {
     "name": "stdout",
     "output_type": "stream",
     "text": [
      "The minimum value at index 0 is 5\n",
      "The minimum value at index 1 is 24\n",
      "The minimum value at index 2 is 27\n"
     ]
    },
    {
     "data": {
      "text/plain": [
       "array([ 5, 24, 27])"
      ]
     },
     "execution_count": 317,
     "metadata": {},
     "output_type": "execute_result"
    }
   ],
   "source": [
    "# Create a NumPy array\n",
    "array = np.unique(np.random.randint(1000, size=100))\n",
    "\n",
    "# Find the indices of the 3 minimum values\n",
    "min_values_idx = array.argsort()[:3]\n",
    "\n",
    "# Print the 3 minimum values and their indices\n",
    "for i in min_values_idx:\n",
    "    print(f\"The minimum value at index {i} is {array[i]}\")\n",
    "\n",
    "array[min_values_idx]"
   ]
  },
  {
   "cell_type": "markdown",
   "metadata": {},
   "source": [
    "---- \n",
    "#### End Numpy"
   ]
  },
  {
   "cell_type": "code",
   "execution_count": null,
   "metadata": {},
   "outputs": [],
   "source": []
  },
  {
   "cell_type": "markdown",
   "metadata": {},
   "source": [
    "# SciPy Organization\n",
    "\n",
    "**Subpackage**\tDescription\n",
    "\n",
    "**cluster**\tClustering algorithms\n",
    "\n",
    "**constants**\tPhysical and mathematical constants\n",
    "\n",
    "**fftpack**\tFast Fourier Transform routines\n",
    "\n",
    "**integrate**\tIntegration and ordinary differential equation solvers\n",
    "\n",
    "**interpolate**\tInterpolation and smoothing splines\n",
    "\n",
    "**io**\tInput and Output\n",
    "\n",
    "**linalg**\tLinear algebra\n",
    "\n",
    "**ndimage**\tN-dimensional image processing\n",
    "\n",
    "**odr**\tOrthogonal distance regression\n",
    "\n",
    "**optimize**\tOptimization and root-finding routines\n",
    "\n",
    "**signal**\tSignal processing\n",
    "\n",
    "**sparse**\tSparse matrices and associated routines\n",
    "\n",
    "**spatial**\tSpatial data structures and algorithms\n",
    "\n",
    "**special**\tSpecial functions\n",
    "\n",
    "**stats**\tStatistical distributions and functions\n"
   ]
  },
  {
   "cell_type": "code",
   "execution_count": 318,
   "metadata": {},
   "outputs": [],
   "source": [
    "from scipy import linalg"
   ]
  },
  {
   "cell_type": "code",
   "execution_count": 319,
   "metadata": {},
   "outputs": [
    {
     "data": {
      "text/plain": [
       "array([2.+0.j, 0.+0.j])"
      ]
     },
     "execution_count": 319,
     "metadata": {},
     "output_type": "execute_result"
    }
   ],
   "source": [
    "linalg.eigvals([[1,1],[1,1]])"
   ]
  },
  {
   "cell_type": "code",
   "execution_count": 320,
   "metadata": {},
   "outputs": [
    {
     "data": {
      "text/plain": [
       "array([[ 0.707106781, -0.707106781],\n",
       "       [ 0.707106781,  0.707106781]])"
      ]
     },
     "execution_count": 320,
     "metadata": {},
     "output_type": "execute_result"
    }
   ],
   "source": [
    "linalg.eig([[1,1],[1,1]])[1]"
   ]
  },
  {
   "cell_type": "code",
   "execution_count": 321,
   "metadata": {},
   "outputs": [],
   "source": [
    "from scipy import special \n",
    "import scipy as sp"
   ]
  },
  {
   "cell_type": "code",
   "execution_count": 322,
   "metadata": {},
   "outputs": [
    {
     "name": "stdout",
     "output_type": "stream",
     "text": [
      "       4             3        2\n",
      "4.375 x + 4.857e-16 x - 3.75 x + 2.429e-16 x + 0.375\n"
     ]
    }
   ],
   "source": [
    "a = special.legendre(4)\n",
    "print(a)"
   ]
  },
  {
   "cell_type": "code",
   "execution_count": 323,
   "metadata": {},
   "outputs": [
    {
     "data": {
      "text/plain": [
       "poly1d([ 4.375,  0.   , -3.75 ,  0.   ,  0.375])"
      ]
     },
     "execution_count": 323,
     "metadata": {},
     "output_type": "execute_result"
    }
   ],
   "source": [
    "a"
   ]
  },
  {
   "attachments": {},
   "cell_type": "markdown",
   "metadata": {},
   "source": [
    "![legendre](ole2.gif)"
   ]
  },
  {
   "cell_type": "code",
   "execution_count": 324,
   "metadata": {},
   "outputs": [
    {
     "name": "stdout",
     "output_type": "stream",
     "text": [
      "     2\n",
      "1.5 x + 1.5\n"
     ]
    }
   ],
   "source": [
    "l2 = special.legendre(2)\n",
    "\n",
    "print(l2 + 2)\n",
    "#sp.poly1d"
   ]
  },
  {
   "cell_type": "markdown",
   "metadata": {},
   "source": [
    "## Matrix Op."
   ]
  },
  {
   "cell_type": "code",
   "execution_count": 325,
   "metadata": {},
   "outputs": [
    {
     "data": {
      "text/plain": [
       "array([[1, 2],\n",
       "       [3, 4]])"
      ]
     },
     "execution_count": 325,
     "metadata": {},
     "output_type": "execute_result"
    }
   ],
   "source": [
    "arr = np.arange(1,5).reshape((2,2))\n",
    "arr"
   ]
  },
  {
   "cell_type": "code",
   "execution_count": 326,
   "metadata": {},
   "outputs": [
    {
     "data": {
      "text/plain": [
       "-2.0"
      ]
     },
     "execution_count": 326,
     "metadata": {},
     "output_type": "execute_result"
    }
   ],
   "source": [
    "linalg.det(arr)"
   ]
  },
  {
   "cell_type": "code",
   "execution_count": 327,
   "metadata": {},
   "outputs": [
    {
     "data": {
      "text/plain": [
       "array([[-2. ,  1. ],\n",
       "       [ 1.5, -0.5]])"
      ]
     },
     "execution_count": 327,
     "metadata": {},
     "output_type": "execute_result"
    }
   ],
   "source": [
    "linalg.inv(arr)"
   ]
  },
  {
   "cell_type": "markdown",
   "metadata": {},
   "source": [
    "### Solv"
   ]
  },
  {
   "cell_type": "code",
   "execution_count": 328,
   "metadata": {},
   "outputs": [],
   "source": [
    "# aX = b\n",
    "\n",
    "a = np.array([[3, 2, 0], [1, -1, 0], [0, 5, 1]])\n",
    "b = np.array([2, 4, -1])"
   ]
  },
  {
   "cell_type": "code",
   "execution_count": 329,
   "metadata": {},
   "outputs": [
    {
     "data": {
      "text/plain": [
       "array([ 2., -2.,  9.])"
      ]
     },
     "execution_count": 329,
     "metadata": {},
     "output_type": "execute_result"
    }
   ],
   "source": [
    "x = linalg.solve(a, b)\n",
    "x"
   ]
  },
  {
   "cell_type": "markdown",
   "metadata": {},
   "source": [
    "### scipy io"
   ]
  },
  {
   "cell_type": "code",
   "execution_count": 330,
   "metadata": {},
   "outputs": [],
   "source": [
    "from scipy import io as spio"
   ]
  },
  {
   "cell_type": "code",
   "execution_count": 331,
   "metadata": {},
   "outputs": [],
   "source": [
    "a = np.ones((3,3))\n",
    "\n",
    "spio.savemat(\"m.mat\", {\"a\":a})"
   ]
  },
  {
   "cell_type": "code",
   "execution_count": 332,
   "metadata": {},
   "outputs": [],
   "source": [
    "data = spio.loadmat(\"m.mat\")"
   ]
  },
  {
   "cell_type": "code",
   "execution_count": 333,
   "metadata": {},
   "outputs": [
    {
     "data": {
      "text/plain": [
       "array([[1., 1., 1.],\n",
       "       [1., 1., 1.],\n",
       "       [1., 1., 1.]])"
      ]
     },
     "execution_count": 333,
     "metadata": {},
     "output_type": "execute_result"
    }
   ],
   "source": [
    "data[\"a\"]"
   ]
  },
  {
   "cell_type": "code",
   "execution_count": null,
   "metadata": {},
   "outputs": [],
   "source": []
  },
  {
   "cell_type": "markdown",
   "metadata": {},
   "source": [
    "### optimize  fit"
   ]
  },
  {
   "cell_type": "code",
   "execution_count": 334,
   "metadata": {},
   "outputs": [],
   "source": [
    "from scipy import optimize"
   ]
  },
  {
   "cell_type": "code",
   "execution_count": 335,
   "metadata": {},
   "outputs": [],
   "source": [
    "x_data = np.linspace(-5, 5, 50)\n",
    "y_data = 2.9 * np.sin(1.5 * x_data) + np.random.normal(size=50)"
   ]
  },
  {
   "cell_type": "code",
   "execution_count": 336,
   "metadata": {},
   "outputs": [
    {
     "data": {
      "text/plain": [
       "array([-5.         , -4.795918367, -4.591836735, ...,  4.591836735,\n",
       "        4.795918367,  5.         ])"
      ]
     },
     "execution_count": 336,
     "metadata": {},
     "output_type": "execute_result"
    }
   ],
   "source": [
    "x_data"
   ]
  },
  {
   "cell_type": "code",
   "execution_count": 337,
   "metadata": {},
   "outputs": [
    {
     "data": {
      "text/plain": [
       "array([-1.606446923, -3.159142759, -0.954356708, ...,  1.718145682,\n",
       "        3.074097388,  1.851333647])"
      ]
     },
     "execution_count": 337,
     "metadata": {},
     "output_type": "execute_result"
    }
   ],
   "source": [
    "y_data"
   ]
  },
  {
   "cell_type": "code",
   "execution_count": 338,
   "metadata": {},
   "outputs": [],
   "source": [
    "def test_func(x, a, b):\n",
    "    return a * np.sin(b * x)"
   ]
  },
  {
   "cell_type": "code",
   "execution_count": 339,
   "metadata": {},
   "outputs": [],
   "source": [
    "params , params_cov = optimize.curve_fit(test_func, x_data, y_data, p0=[2,2])"
   ]
  },
  {
   "cell_type": "code",
   "execution_count": 340,
   "metadata": {},
   "outputs": [
    {
     "data": {
      "text/plain": [
       "array([3.185763702, 1.484424716])"
      ]
     },
     "execution_count": 340,
     "metadata": {},
     "output_type": "execute_result"
    }
   ],
   "source": [
    "params"
   ]
  },
  {
   "cell_type": "code",
   "execution_count": 341,
   "metadata": {},
   "outputs": [
    {
     "data": {
      "text/plain": [
       "array([[ 0.039343259, -0.00039565 ],\n",
       "       [-0.00039565 ,  0.000397503]])"
      ]
     },
     "execution_count": 341,
     "metadata": {},
     "output_type": "execute_result"
    }
   ],
   "source": [
    "params_cov"
   ]
  },
  {
   "cell_type": "markdown",
   "metadata": {},
   "source": [
    "### find Minimum"
   ]
  },
  {
   "cell_type": "code",
   "execution_count": 342,
   "metadata": {},
   "outputs": [],
   "source": [
    "def f(x):\n",
    "    return x**2 + 10*np.sin(x)"
   ]
  },
  {
   "cell_type": "code",
   "execution_count": 343,
   "metadata": {},
   "outputs": [],
   "source": [
    "res = optimize.minimize(f, x0=0)"
   ]
  },
  {
   "cell_type": "code",
   "execution_count": 344,
   "metadata": {},
   "outputs": [
    {
     "data": {
      "text/plain": [
       "      fun: -7.945823375615215\n",
       " hess_inv: array([[0.085892365]])\n",
       "      jac: array([-0.000001192])\n",
       "  message: 'Optimization terminated successfully.'\n",
       "     nfev: 12\n",
       "      nit: 5\n",
       "     njev: 6\n",
       "   status: 0\n",
       "  success: True\n",
       "        x: array([-1.306440116])"
      ]
     },
     "execution_count": 344,
     "metadata": {},
     "output_type": "execute_result"
    }
   ],
   "source": [
    "res"
   ]
  },
  {
   "cell_type": "code",
   "execution_count": 345,
   "metadata": {},
   "outputs": [
    {
     "data": {
      "text/plain": [
       "array([-1.306440116])"
      ]
     },
     "execution_count": 345,
     "metadata": {},
     "output_type": "execute_result"
    }
   ],
   "source": [
    "res.x"
   ]
  },
  {
   "cell_type": "markdown",
   "metadata": {},
   "source": [
    "##  Image read"
   ]
  },
  {
   "cell_type": "code",
   "execution_count": 384,
   "metadata": {},
   "outputs": [],
   "source": [
    "import imageio.v3 as iio"
   ]
  },
  {
   "cell_type": "code",
   "execution_count": 386,
   "metadata": {},
   "outputs": [
    {
     "data": {
      "text/plain": [
       "(898, 1238, 4)"
      ]
     },
     "execution_count": 386,
     "metadata": {},
     "output_type": "execute_result"
    }
   ],
   "source": [
    "image_arr = iio.imread(\"nparr.png\")\n",
    "\n",
    "image_arr.shape"
   ]
  },
  {
   "cell_type": "markdown",
   "metadata": {},
   "source": [
    "### Sparse Matrix"
   ]
  },
  {
   "cell_type": "markdown",
   "metadata": {},
   "source": [
    " ` bsr_matrix(arg1[, shape, dtype, copy, blocksize]) `  \tBlock Sparse Row matrix\n",
    " \n",
    " `coo_matrix(arg1[, shape, dtype, copy])` \tA sparse matrix in COOrdinate format.\n",
    " \n",
    " `csc_matrix(arg1[, shape, dtype, copy])` \tCompressed Sparse Column matrix\n",
    " \n",
    " `csr_matrix(arg1[, shape, dtype, copy])` \tCompressed Sparse Row matrix\n",
    " \n",
    " `dia_matrix(arg1[, shape, dtype, copy])` \tSparse matrix with DIAgonal storage\n",
    " \n",
    " `dok_matrix(arg1[, shape, dtype, copy])` \tDictionary Of Keys based sparse matrix.\n",
    " \n",
    " `lil_matrix(arg1[, shape, dtype, copy])` \tRow-based linked list sparse matrix\n",
    " \n",
    " `spmatrix([maxprint])` \tThis class provides a base class for all sparse matrices.\n",
    " "
   ]
  },
  {
   "cell_type": "code",
   "execution_count": 348,
   "metadata": {},
   "outputs": [],
   "source": [
    "from scipy import sparse"
   ]
  },
  {
   "cell_type": "code",
   "execution_count": 349,
   "metadata": {},
   "outputs": [],
   "source": [
    "mtx = sparse.dok_matrix((5,5))"
   ]
  },
  {
   "cell_type": "code",
   "execution_count": 350,
   "metadata": {},
   "outputs": [
    {
     "data": {
      "text/plain": [
       "array([[1., 1., 0.],\n",
       "       [0., 0., 1.]])"
      ]
     },
     "execution_count": 350,
     "metadata": {},
     "output_type": "execute_result"
    }
   ],
   "source": [
    "data = np.round(np.random.rand(2,3))\n",
    "data"
   ]
  },
  {
   "cell_type": "code",
   "execution_count": 351,
   "metadata": {},
   "outputs": [],
   "source": [
    "mtx[2:4, [1,2,3]] = data"
   ]
  },
  {
   "cell_type": "code",
   "execution_count": 352,
   "metadata": {},
   "outputs": [
    {
     "data": {
      "text/plain": [
       "<5x5 sparse matrix of type '<class 'numpy.float64'>'\n",
       "\twith 3 stored elements in Dictionary Of Keys format>"
      ]
     },
     "execution_count": 352,
     "metadata": {},
     "output_type": "execute_result"
    }
   ],
   "source": [
    "mtx"
   ]
  },
  {
   "cell_type": "code",
   "execution_count": 353,
   "metadata": {},
   "outputs": [
    {
     "name": "stdout",
     "output_type": "stream",
     "text": [
      "  (2, 1)\t1.0\n",
      "  (2, 2)\t1.0\n",
      "  (3, 3)\t1.0\n"
     ]
    }
   ],
   "source": [
    "print(mtx)"
   ]
  },
  {
   "cell_type": "code",
   "execution_count": 354,
   "metadata": {},
   "outputs": [
    {
     "data": {
      "text/plain": [
       "array([[0., 0., 0., 0., 0.],\n",
       "       [0., 0., 0., 0., 0.],\n",
       "       [0., 1., 1., 0., 0.],\n",
       "       [0., 0., 0., 1., 0.],\n",
       "       [0., 0., 0., 0., 0.]])"
      ]
     },
     "execution_count": 354,
     "metadata": {},
     "output_type": "execute_result"
    }
   ],
   "source": [
    "mtx.toarray()"
   ]
  },
  {
   "cell_type": "code",
   "execution_count": 355,
   "metadata": {},
   "outputs": [
    {
     "name": "stdout",
     "output_type": "stream",
     "text": [
      "  (2, 1)\t2.0\n",
      "  (2, 2)\t2.0\n",
      "  (3, 3)\t2.0\n"
     ]
    }
   ],
   "source": [
    "print(mtx + mtx)"
   ]
  },
  {
   "cell_type": "markdown",
   "metadata": {},
   "source": [
    "## Matplotlib"
   ]
  },
  {
   "cell_type": "code",
   "execution_count": 356,
   "metadata": {},
   "outputs": [],
   "source": [
    "import matplotlib.pyplot as plt\n",
    "%matplotlib inline"
   ]
  },
  {
   "cell_type": "markdown",
   "metadata": {},
   "source": [
    "#### Ex. 1"
   ]
  },
  {
   "cell_type": "code",
   "execution_count": 357,
   "metadata": {},
   "outputs": [
    {
     "data": {
      "text/plain": [
       "array([0. , 0.2, 0.4, ..., 4.4, 4.6, 4.8])"
      ]
     },
     "execution_count": 357,
     "metadata": {},
     "output_type": "execute_result"
    }
   ],
   "source": [
    "t = np.arange(0, 5, .2)\n",
    "t"
   ]
  },
  {
   "cell_type": "code",
   "execution_count": 358,
   "metadata": {},
   "outputs": [
    {
     "data": {
      "text/plain": [
       "[<matplotlib.lines.Line2D at 0x24d883150d0>]"
      ]
     },
     "execution_count": 358,
     "metadata": {},
     "output_type": "execute_result"
    },
    {
     "data": {
      "image/png": "[encoded data removed]",
      "text/plain": [
       "<Figure size 432x288 with 1 Axes>"
      ]
     },
     "metadata": {
      "needs_background": "light"
     },
     "output_type": "display_data"
    }
   ],
   "source": [
    "plt.plot(t, t**1, \"r^\")"
   ]
  },
  {
   "cell_type": "code",
   "execution_count": 359,
   "metadata": {},
   "outputs": [
    {
     "data": {
      "text/plain": [
       "[<matplotlib.lines.Line2D at 0x24d889b6fd0>]"
      ]
     },
     "execution_count": 359,
     "metadata": {},
     "output_type": "execute_result"
    },
    {
     "data": {
      "image/png": "[encoded data removed]",
      "text/plain": [
       "<Figure size 432x288 with 1 Axes>"
      ]
     },
     "metadata": {
      "needs_background": "light"
     },
     "output_type": "display_data"
    }
   ],
   "source": [
    "plt.plot(t, t**2, \"b.\")"
   ]
  },
  {
   "cell_type": "code",
   "execution_count": 360,
   "metadata": {},
   "outputs": [
    {
     "data": {
      "text/plain": [
       "[<matplotlib.lines.Line2D at 0x24d8829f880>]"
      ]
     },
     "execution_count": 360,
     "metadata": {},
     "output_type": "execute_result"
    },
    {
     "data": {
      "image/png": "[encoded data removed]",
      "text/plain": [
       "<Figure size 432x288 with 1 Axes>"
      ]
     },
     "metadata": {
      "needs_background": "light"
     },
     "output_type": "display_data"
    }
   ],
   "source": [
    "plt.plot(t, t**1, \"r^\")\n",
    "plt.plot(t, t**2, \"b.\")\n",
    "plt.plot(t, t**3, \"g--\")"
   ]
  },
  {
   "cell_type": "code",
   "execution_count": 361,
   "metadata": {},
   "outputs": [
    {
     "data": {
      "text/plain": [
       "[<matplotlib.lines.Line2D at 0x24d889769a0>,\n",
       " <matplotlib.lines.Line2D at 0x24d88976940>,\n",
       " <matplotlib.lines.Line2D at 0x24d88976b50>]"
      ]
     },
     "execution_count": 361,
     "metadata": {},
     "output_type": "execute_result"
    },
    {
     "data": {
      "image/png": "[encoded data removed]",
      "text/plain": [
       "<Figure size 432x288 with 1 Axes>"
      ]
     },
     "metadata": {
      "needs_background": "light"
     },
     "output_type": "display_data"
    }
   ],
   "source": [
    "plt.plot(t, t**1, \"r--\", t, t**2, \"b*\", t, t**3, \"gs\")"
   ]
  },
  {
   "cell_type": "markdown",
   "metadata": {},
   "source": [
    "#### Ex. 2"
   ]
  },
  {
   "cell_type": "code",
   "execution_count": 362,
   "metadata": {},
   "outputs": [],
   "source": [
    "rands = np.random.randint(-5, 5, size=10)\n",
    "x_point = np.unique(rands)\n",
    "y_point = np.random.randint(-10, 10, size=len(x_point))"
   ]
  },
  {
   "cell_type": "code",
   "execution_count": 363,
   "metadata": {},
   "outputs": [
    {
     "data": {
      "text/plain": [
       "(array([-5, -4, -3, -2, -1,  0,  2,  3]),\n",
       " array([-9,  2,  4,  3, -8,  2,  5,  5]))"
      ]
     },
     "execution_count": 363,
     "metadata": {},
     "output_type": "execute_result"
    }
   ],
   "source": [
    "x_point, y_point"
   ]
  },
  {
   "cell_type": "code",
   "execution_count": 364,
   "metadata": {},
   "outputs": [
    {
     "data": {
      "image/png": "[encoded data removed]",
      "text/plain": [
       "<Figure size 432x288 with 1 Axes>"
      ]
     },
     "metadata": {
      "needs_background": "light"
     },
     "output_type": "display_data"
    }
   ],
   "source": [
    "plt.plot(x_point, y_point, \".--\")\n",
    "plt.title('Plot Random Points')\n",
    "plt.show()"
   ]
  },
  {
   "cell_type": "markdown",
   "metadata": {},
   "source": [
    "#### Ex. 3"
   ]
  },
  {
   "cell_type": "code",
   "execution_count": 365,
   "metadata": {},
   "outputs": [],
   "source": [
    "x = np.arange(0, 2*np.pi, 0.2)\n",
    "y1 = np.sin(x)\n",
    "y2 = np.cos(2*x)\n"
   ]
  },
  {
   "cell_type": "code",
   "execution_count": 366,
   "metadata": {},
   "outputs": [
    {
     "data": {
      "image/png": "[encoded data removed]",
      "text/plain": [
       "<Figure size 432x288 with 1 Axes>"
      ]
     },
     "metadata": {
      "needs_background": "light"
     },
     "output_type": "display_data"
    }
   ],
   "source": [
    "plt.grid(True)\n",
    "plt.plot(x,y1,\"gv:\" , x,y2,\"r*\")\n",
    "plt.legend((\"Sin x\", \"Cos 2x\"), shadow=True, loc=\"best\")\n",
    "plt.savefig(\"plot.png\")\n",
    "plt.show()"
   ]
  },
  {
   "cell_type": "code",
   "execution_count": 367,
   "metadata": {},
   "outputs": [
    {
     "data": {
      "text/plain": [
       "<matplotlib.collections.PathCollection at 0x24d8980cdc0>"
      ]
     },
     "execution_count": 367,
     "metadata": {},
     "output_type": "execute_result"
    },
    {
     "data": {
      "image/png": "[encoded data removed]",
      "text/plain": [
       "<Figure size 432x288 with 1 Axes>"
      ]
     },
     "metadata": {
      "needs_background": "light"
     },
     "output_type": "display_data"
    }
   ],
   "source": [
    "plt.scatter(x, y1)"
   ]
  },
  {
   "cell_type": "code",
   "execution_count": 368,
   "metadata": {},
   "outputs": [
    {
     "data": {
      "text/plain": [
       "(array([2., 4., 1., 7., 4., 1., 1., 2., 4., 4.]),\n",
       " array([-5., -4., -3., ...,  3.,  4.,  5.]),\n",
       " <BarContainer object of 10 artists>)"
      ]
     },
     "execution_count": 368,
     "metadata": {},
     "output_type": "execute_result"
    },
    {
     "data": {
      "image/png": "[encoded data removed]",
      "text/plain": [
       "<Figure size 432x288 with 1 Axes>"
      ]
     },
     "metadata": {
      "needs_background": "light"
     },
     "output_type": "display_data"
    }
   ],
   "source": [
    "plt.hist(np.random.randint(-5,6, size=30))"
   ]
  },
  {
   "cell_type": "markdown",
   "metadata": {},
   "source": [
    "#### Ex. 3.1"
   ]
  },
  {
   "cell_type": "code",
   "execution_count": 369,
   "metadata": {},
   "outputs": [
    {
     "data": {
      "text/plain": [
       "array([112.845121934, 108.470255488, 101.262797069, ..., 110.854337911,\n",
       "        71.637714234, 135.948771664])"
      ]
     },
     "execution_count": 369,
     "metadata": {},
     "output_type": "execute_result"
    }
   ],
   "source": [
    "mu , sigma = 100, 15\n",
    "x = mu + sigma*np.random.randn(10000)\n",
    "x"
   ]
  },
  {
   "cell_type": "code",
   "execution_count": 370,
   "metadata": {},
   "outputs": [
    {
     "data": {
      "image/png": "[encoded data removed]",
      "text/plain": [
       "<Figure size 432x288 with 1 Axes>"
      ]
     },
     "metadata": {
      "needs_background": "light"
     },
     "output_type": "display_data"
    }
   ],
   "source": [
    "import matplotlib.pyplot as plt\n",
    "n , bins, patches = plt.hist(x, 50, alpha=0.7, facecolor=\"g\", edgecolor=\"k\", linewidth=1)\n",
    "\n",
    "plt.xlabel(\"Smarts\")\n",
    "plt.ylabel(\"Probability\")\n",
    "plt.title(\"Histogram of IQ\")\n",
    "plt.text(85, 580, r\"$\\mu=100,\\ \\sigma=15$\")\n",
    "plt.axis([40, 160, 0, 650])\n",
    "plt.grid(True)"
   ]
  },
  {
   "cell_type": "code",
   "execution_count": null,
   "metadata": {},
   "outputs": [],
   "source": []
  },
  {
   "cell_type": "code",
   "execution_count": null,
   "metadata": {},
   "outputs": [],
   "source": []
  },
  {
   "cell_type": "markdown",
   "metadata": {},
   "source": [
    "\n",
    "###   Alias   Color\n",
    "\n",
    "*      'b'     blue\n",
    "*      'g'     green\n",
    "*      'r'     red\n",
    "*      'c'     cyan\n",
    "*      'm'     magenta\n",
    "*      'y'     yellow\n",
    "*      'k'     black\n",
    "*      'w'     white\n",
    "-----------------------------\n",
    "\n",
    "### character   description\n",
    "\n",
    "*    '-'      solid line style\n",
    "*\t'--'     dashed line style\n",
    "*\t'-.'     dash-dot line style\n",
    "*\t':'      dotted line style\n",
    "*\t'.'      point marker\n",
    "*\t','      pixel marker\n",
    "*\t'o'      circle marker\n",
    "*\t'v'      triangle_down marker\n",
    "*\t'^'      triangle_up marker\n",
    "*\t'<'      triangle_left marker\n",
    "*\t'>'      triangle_right marker\n",
    "*\t'1'      tri_down marker\n",
    "*\t'2'      tri_up marker\n",
    "*\t'3'      tri_left marker\n",
    "*\t'4'      tri_right marker\n",
    "*\t's'      square marker\n",
    "*\t'p'      pentagon marker\n",
    "*\t'*'      star marker\n",
    "*\t'h'      hexagon1 marker\n",
    "*\t'H'      hexagon2 marker\n",
    "*\t'+'      plus marker\n",
    "*\t'x'      x marker\n",
    "*\t'D'      diamond marker\n",
    "*\t'd'      thin_diamond marker\n",
    "*\t'|'      vline marker\n",
    "*\t'_'      hline marker\n"
   ]
  },
  {
   "cell_type": "markdown",
   "metadata": {},
   "source": [
    "#### Ex. 4"
   ]
  },
  {
   "cell_type": "code",
   "execution_count": 371,
   "metadata": {},
   "outputs": [
    {
     "data": {
      "image/png": "[encoded data removed]",
      "text/plain": [
       "<Figure size 432x288 with 1 Axes>"
      ]
     },
     "metadata": {
      "needs_background": "light"
     },
     "output_type": "display_data"
    }
   ],
   "source": [
    "import numpy as np\n",
    "import matplotlib.pyplot as plt\n",
    "import matplotlib.mlab as mlab\n",
    "from scipy import stats\n",
    "\n",
    "# Fixing random state for reproducibility\n",
    "np.random.seed(19680801)\n",
    "\n",
    "mu, sigma = 100, 15\n",
    "x = mu + sigma * np.random.randn(10000)\n",
    "\n",
    "# the histogram of the data\n",
    "n, bins, patches = plt.hist(x, 50, density=True, facecolor='g', alpha=0.75)\n",
    "\n",
    "y = np.linspace(mu - 3*sigma, mu + 3*sigma, 100)\n",
    "plt.plot(y, stats.norm.pdf(y, mu, sigma), \"r--\")\n",
    "\n",
    "plt.xlabel('Smarts')\n",
    "plt.ylabel('Probability')\n",
    "plt.title('Histogram of IQ')\n",
    "plt.text(60, .025, r'$\\mu=100,\\ \\sigma=15$')\n",
    "plt.axis([40, 160, 0, 0.03])\n",
    "plt.grid(True)\n",
    "plt.show()"
   ]
  },
  {
   "cell_type": "code",
   "execution_count": 372,
   "metadata": {},
   "outputs": [
    {
     "data": {
      "image/png": "[encoded data removed]",
      "text/plain": [
       "<Figure size 432x288 with 1 Axes>"
      ]
     },
     "metadata": {
      "needs_background": "light"
     },
     "output_type": "display_data"
    }
   ],
   "source": [
    "import matplotlib.pyplot as plt\n",
    "import numpy as np\n",
    "import scipy.stats as stats\n",
    "import math\n",
    "\n",
    "mu = 0\n",
    "variance = 1\n",
    "sigma = math.sqrt(variance)\n",
    "x = np.linspace(mu - 3*sigma, mu + 3*sigma, 100)\n",
    "plt.plot(x, stats.norm.pdf(x, mu, sigma))\n",
    "plt.show()"
   ]
  },
  {
   "cell_type": "markdown",
   "metadata": {},
   "source": [
    "#### Ex. 5"
   ]
  },
  {
   "cell_type": "code",
   "execution_count": 373,
   "metadata": {},
   "outputs": [
    {
     "data": {
      "image/png": "[encoded data removed]",
      "text/plain": [
       "<Figure size 432x288 with 2 Axes>"
      ]
     },
     "metadata": {
      "needs_background": "light"
     },
     "output_type": "display_data"
    }
   ],
   "source": [
    "import numpy as np\n",
    "import matplotlib.pyplot as plt\n",
    "\n",
    "\n",
    "x1 = np.linspace(0.0, 5.0)\n",
    "x2 = np.linspace(0.0, 5.0)\n",
    "\n",
    "y1 = np.cos(2 * np.pi * x1) * np.exp(-x1)\n",
    "y2 = np.cos(2 * np.pi * x2)\n",
    "\n",
    "plt.subplot(2, 1, 1)\n",
    "plt.plot(x1, y1, 'o-')\n",
    "plt.title('A tale of 2 subplots')\n",
    "plt.ylabel('Damped oscillation')\n",
    "plt.grid(True)\n",
    "\n",
    "plt.subplot(2, 1, 2)\n",
    "plt.plot(x2, y2, '.-')\n",
    "plt.xlabel('time (s)')\n",
    "plt.ylabel('Undamped')\n",
    "plt.grid(True)\n",
    "plt.show()"
   ]
  },
  {
   "cell_type": "markdown",
   "metadata": {},
   "source": [
    "#### Ex. 6"
   ]
  },
  {
   "cell_type": "code",
   "execution_count": 374,
   "metadata": {},
   "outputs": [
    {
     "data": {
      "image/png": "[encoded data removed]",
      "text/plain": [
       "<Figure size 432x288 with 1 Axes>"
      ]
     },
     "metadata": {},
     "output_type": "display_data"
    }
   ],
   "source": [
    "import matplotlib.pyplot as plt\n",
    "\n",
    "# Pie chart, where the slices will be ordered and plotted counter-clockwise:\n",
    "labels = 'Frogs', 'Hogs', 'Dogs', 'Logs'\n",
    "sizes = [15, 30, 45, 10]\n",
    "explode = (0, 0.1, 0, 0)  # only \"explode\" the 2nd slice (i.e. 'Hogs')\n",
    "\n",
    "fig1, ax1 = plt.subplots()\n",
    "ax1.pie(sizes, explode=explode, labels=labels, autopct='%1.1f%%',\n",
    "        shadow=True, startangle=90)\n",
    "ax1.axis('equal')  # Equal aspect ratio ensures that pie is drawn as a circle.\n",
    "\n",
    "plt.show()"
   ]
  },
  {
   "cell_type": "markdown",
   "metadata": {},
   "source": [
    "#### Ex. 7"
   ]
  },
  {
   "cell_type": "code",
   "execution_count": 375,
   "metadata": {},
   "outputs": [
    {
     "data": {
      "text/plain": [
       "<matplotlib.collections.PathCollection at 0x24d8883b7c0>"
      ]
     },
     "execution_count": 375,
     "metadata": {},
     "output_type": "execute_result"
    },
    {
     "data": {
      "image/png": "[encoded data removed]",
      "text/plain": [
       "<Figure size 432x288 with 1 Axes>"
      ]
     },
     "metadata": {
      "needs_background": "light"
     },
     "output_type": "display_data"
    }
   ],
   "source": [
    "\n",
    "N = 50\n",
    "x = np.random.rand(N)\n",
    "y = np.random.rand(N)\n",
    "colors = np.random.rand(N)\n",
    "area = (30 * np.random.rand(N))**2  # 0 to 15 point radii\n",
    "\n",
    "plt.scatter(x, y, s=area, c=colors, alpha=0.5)"
   ]
  },
  {
   "cell_type": "code",
   "execution_count": 376,
   "metadata": {},
   "outputs": [
    {
     "data": {
      "image/png": "[encoded data removed]",
      "text/plain": [
       "<Figure size 432x288 with 3 Axes>"
      ]
     },
     "metadata": {
      "needs_background": "light"
     },
     "output_type": "display_data"
    }
   ],
   "source": [
    "from matplotlib.gridspec import GridSpec\n",
    "\n",
    "x = np.random.normal(size=1000)\n",
    "y = np.random.normal(size=1000)\n",
    "\n",
    "fig = plt.figure()\n",
    "\n",
    "gs = GridSpec(4,4)\n",
    "\n",
    "ax_joint = fig.add_subplot(gs[1:4,0:3])\n",
    "ax_marg_x = fig.add_subplot(gs[0,0:3])\n",
    "ax_marg_y = fig.add_subplot(gs[1:4,3])\n",
    "\n",
    "ax_joint.scatter(x,y, marker=\".\", edgecolors=\"k\",linewidths=.3)\n",
    "ax_marg_x.hist(x)\n",
    "ax_marg_y.hist(y,orientation=\"horizontal\")\n",
    "\n",
    "# Turn off tick labels on marginals\n",
    "plt.setp(ax_marg_x.get_xticklabels(), visible=False)\n",
    "plt.setp(ax_marg_y.get_yticklabels(), visible=False)\n",
    "\n",
    "# Set labels on joint\n",
    "ax_joint.set_xlabel('Joint x label')\n",
    "ax_joint.set_ylabel('Joint y label')\n",
    "\n",
    "# Set labels on marginals\n",
    "ax_marg_y.set_xlabel('Marginal y label')\n",
    "ax_marg_x.set_ylabel('Marginal x label')\n",
    "plt.show()"
   ]
  },
  {
   "cell_type": "code",
   "execution_count": null,
   "metadata": {},
   "outputs": [],
   "source": []
  },
  {
   "cell_type": "code",
   "execution_count": null,
   "metadata": {},
   "outputs": [],
   "source": []
  },
  {
   "cell_type": "code",
   "execution_count": null,
   "metadata": {},
   "outputs": [],
   "source": []
  },
  {
   "cell_type": "code",
   "execution_count": null,
   "metadata": {},
   "outputs": [],
   "source": []
  },
  {
   "cell_type": "markdown",
   "metadata": {},
   "source": [
    "#### Ex. 8\n",
    "\n",
    "\n",
    "<div>\n",
    "<img src=\"plot-raw.png\" width=\"450\" float=\"left\">\n",
    "<span><b> ----convert to---> </b></span>\n",
    "<img src=\"plot-adv.png\" width=\"600\" float=\"right\">\n",
    "</div>\n"
   ]
  },
  {
   "cell_type": "code",
   "execution_count": 377,
   "metadata": {},
   "outputs": [],
   "source": [
    "import matplotlib.pyplot as plt\n"
   ]
  },
  {
   "cell_type": "code",
   "execution_count": 378,
   "metadata": {},
   "outputs": [],
   "source": [
    "X = np.linspace(-np.pi, np.pi, 256)\n",
    "\n",
    "C , S = np.cos(X) , np.sin(X)"
   ]
  },
  {
   "cell_type": "code",
   "execution_count": 379,
   "metadata": {},
   "outputs": [
    {
     "data": {
      "image/png": "[encoded data removed]",
      "text/plain": [
       "<Figure size 432x288 with 1 Axes>"
      ]
     },
     "metadata": {
      "needs_background": "light"
     },
     "output_type": "display_data"
    }
   ],
   "source": [
    "plt.plot(X, C)\n",
    "plt.plot(X, S)\n",
    "\n",
    "plt.show()"
   ]
  },
  {
   "cell_type": "code",
   "execution_count": 380,
   "metadata": {},
   "outputs": [
    {
     "data": {
      "image/png": "[encoded data removed]",
      "text/plain": [
       "<Figure size 800x480 with 1 Axes>"
      ]
     },
     "metadata": {
      "needs_background": "light"
     },
     "output_type": "display_data"
    }
   ],
   "source": [
    "plt.figure(figsize=(10, 6), dpi=80)\n",
    "\n",
    "plt.plot(X, C, color=\"blue\", linewidth=2.5)\n",
    "plt.plot(X, S, color=\"red\", linewidth=2.5)\n",
    "\n",
    "plt.show()"
   ]
  },
  {
   "cell_type": "code",
   "execution_count": 381,
   "metadata": {},
   "outputs": [
    {
     "data": {
      "image/png": "[encoded data removed]",
      "text/plain": [
       "<Figure size 800x480 with 1 Axes>"
      ]
     },
     "metadata": {
      "needs_background": "light"
     },
     "output_type": "display_data"
    }
   ],
   "source": [
    "plt.figure(figsize=(10, 6), dpi=80)\n",
    "\n",
    "plt.plot(X, C, color=\"blue\", linewidth=2.5)\n",
    "plt.plot(X, S, color=\"red\", linewidth=2.5)\n",
    "\n",
    "plt.xticks([-np.pi, -np.pi/2, 0, np.pi/2, np.pi],\n",
    "           [r\"$-\\pi$\", r\"$-\\pi/2$\", r\"$0$\", r\"$\\pi/2$\", r\"$\\pi$\"])\n",
    "\n",
    "plt.yticks([-1, 0, 1])\n",
    "\n",
    "plt.show()"
   ]
  },
  {
   "cell_type": "code",
   "execution_count": 382,
   "metadata": {},
   "outputs": [
    {
     "data": {
      "image/png": "[encoded data removed]",
      "text/plain": [
       "<Figure size 800x480 with 1 Axes>"
      ]
     },
     "metadata": {
      "needs_background": "light"
     },
     "output_type": "display_data"
    }
   ],
   "source": [
    "plt.figure(figsize=(10, 6), dpi=80)\n",
    "\n",
    "plt.plot(X, C, color=\"blue\", linewidth=2.5)\n",
    "plt.plot(X, S, color=\"red\", linewidth=2.5)\n",
    "\n",
    "plt.xticks([-np.pi, -np.pi/2, 0, np.pi/2, np.pi],\n",
    "           [r\"$-\\pi$\", r\"$-\\pi/2$\", r\"$0$\", r\"$\\pi/2$\", r\"$\\pi$\"])\n",
    "\n",
    "plt.yticks([-1, 0, 1])\n",
    "\n",
    "\n",
    "ax = plt.gca()\n",
    "ax.spines[\"right\"].set_color(\"none\")\n",
    "ax.spines[\"top\"].set_color(\"none\")\n",
    "\n",
    "ax.xaxis.set_ticks_position(\"bottom\")\n",
    "ax.yaxis.set_ticks_position(\"left\")\n",
    "\n",
    "ax.spines[\"left\"].set_position((\"data\", 0))\n",
    "ax.spines[\"bottom\"].set_position((\"data\", 0))\n",
    "\n",
    "plt.show()"
   ]
  },
  {
   "cell_type": "code",
   "execution_count": 383,
   "metadata": {},
   "outputs": [
    {
     "data": {
      "image/png": "[encoded data removed]",
      "text/plain": [
       "<Figure size 800x480 with 1 Axes>"
      ]
     },
     "metadata": {
      "needs_background": "light"
     },
     "output_type": "display_data"
    }
   ],
   "source": [
    "plt.figure(figsize=(10, 6), dpi=80)\n",
    "\n",
    "plt.plot(X, C, color=\"blue\", linewidth=2.5, label=\"Cos x\")\n",
    "plt.plot(X, S, color=\"red\", linewidth=2.5, label=\"Sin x\")\n",
    "\n",
    "plt.xticks([-np.pi, -np.pi/2, 0, np.pi/2, np.pi],\n",
    "           [r\"$-\\pi$\", r\"$-\\pi/2$\", r\"$0$\", r\"$\\pi/2$\", r\"$\\pi$\"])\n",
    "\n",
    "plt.yticks([-1, 0, 1])\n",
    "\n",
    "\n",
    "ax = plt.gca()\n",
    "ax.spines[\"right\"].set_color(\"none\")\n",
    "ax.spines[\"top\"].set_color(\"none\")\n",
    "\n",
    "ax.xaxis.set_ticks_position(\"bottom\")\n",
    "ax.yaxis.set_ticks_position(\"left\")\n",
    "\n",
    "ax.spines[\"left\"].set_position((\"data\", 0))\n",
    "ax.spines[\"bottom\"].set_position((\"data\", 0))\n",
    "\n",
    "plt.legend(loc=\"upper left\")\n",
    "plt.savefig(\"plot-adv.png\")\n",
    "plt.show()"
   ]
  },
  {
   "cell_type": "code",
   "execution_count": null,
   "metadata": {},
   "outputs": [],
   "source": []
  }
 ],
 "metadata": {
  "kernelspec": {
   "display_name": "Python 3.8.10 64-bit",
   "language": "python",
   "name": "python3"
  },
  "language_info": {
   "codemirror_mode": {
    "name": "ipython",
    "version": 3
   },
   "file_extension": ".py",
   "mimetype": "text/x-python",
   "name": "python",
   "nbconvert_exporter": "python",
   "pygments_lexer": "ipython3",
   "version": "3.8.10"
  },
  "vscode": {
   "interpreter": {
    "hash": "9650cb4e16cdd4a8e8e2d128bf38d875813998db22a3c986335f89e0cb4d7bb2"
   }
  }
 },
 "nbformat": 4,
 "nbformat_minor": 2
}
